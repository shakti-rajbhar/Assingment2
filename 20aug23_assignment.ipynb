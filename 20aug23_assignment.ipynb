{
 "cells": [
  {
   "cell_type": "code",
   "execution_count": 11,
   "id": "cd2d7992-e8f8-455e-bfaa-e413c269e776",
   "metadata": {},
   "outputs": [
    {
     "name": "stdin",
     "output_type": "stream",
     "text": [
      "Enter a string to reverse shakti\n"
     ]
    },
    {
     "name": "stdout",
     "output_type": "stream",
     "text": [
      "itkahs\n"
     ]
    }
   ],
   "source": [
    "#TOPIC: String Based Assignment Problem\n",
    "#1.Write a program to reverse a string\n",
    "a=input(\"Enter a string to reverse\")[::-1]\n",
    "print(a)"
   ]
  },
  {
   "cell_type": "code",
   "execution_count": 13,
   "id": "2714a85e-49c3-4350-8391-6089d5d7a416",
   "metadata": {},
   "outputs": [
    {
     "name": "stdin",
     "output_type": "stream",
     "text": [
      "enter the string to check if it is a palindrome lil\n"
     ]
    },
    {
     "name": "stdout",
     "output_type": "stream",
     "text": [
      "String is Palindrome.\n"
     ]
    }
   ],
   "source": [
    "#2 check if string is palindrome\n",
    "b = input(\"enter the string to check if it is a palindrome\") #input string\n",
    "r_b= b[::-1] #reversed input string\n",
    "if b == r_b: # if input  == reverserd string\n",
    "    print(\"String is Palindrome.\") #if true \n",
    "else:\n",
    "    print(\"String is not a palindrome.\") "
   ]
  },
  {
   "cell_type": "code",
   "execution_count": 14,
   "id": "8a851a3a-951e-495f-86f8-b87c349e9b60",
   "metadata": {},
   "outputs": [
    {
     "name": "stdin",
     "output_type": "stream",
     "text": [
      "Enter a string to transform into UPPERCASE shakti\n"
     ]
    },
    {
     "name": "stdout",
     "output_type": "stream",
     "text": [
      "STRING IN UPPERCASE: SHAKTI\n"
     ]
    }
   ],
   "source": [
    "#3 Convert a string to uppercase.\n",
    "c=input(\"Enter a string to transform into UPPERCASE\")\n",
    "c1=c.upper()\n",
    "print('STRING IN UPPERCASE:',c1)"
   ]
  },
  {
   "cell_type": "code",
   "execution_count": 15,
   "id": "c5baa609-2800-4886-b3e8-ca71213b128e",
   "metadata": {},
   "outputs": [
    {
     "name": "stdin",
     "output_type": "stream",
     "text": [
      "Enter a string to transform into lowercase SHATI RAJBHAR\n"
     ]
    },
    {
     "name": "stdout",
     "output_type": "stream",
     "text": [
      "string in lowercase: shati rajbhar\n"
     ]
    }
   ],
   "source": [
    "#4.Convert a string to lowercase\n",
    "d=input(\"Enter a string to transform into lowercase\")\n",
    "d1=d.lower()\n",
    "print('string in lowercase:',d1)"
   ]
  },
  {
   "cell_type": "code",
   "execution_count": 16,
   "id": "38a68f87-9e97-46fe-913f-5fc5c9ed248c",
   "metadata": {},
   "outputs": [
    {
     "name": "stdin",
     "output_type": "stream",
     "text": [
      "Enter the string : gvgvgvgvgctykbuguyg\n"
     ]
    },
    {
     "name": "stdout",
     "output_type": "stream",
     "text": [
      "Total vowels are :2\n"
     ]
    }
   ],
   "source": [
    "#5.Count the number of vowels in a string.\n",
    "s1 = input('Enter the string :') #user input of string(data type is by default string)\n",
    "count = 0 #initial counter zero\n",
    "s1 = s1.lower() #to check conditions in lowercase only\n",
    "for i in s1: \n",
    "    if i == 'a' or i == 'e' or i == 'i' or i == 'o' or i == 'u':\n",
    "        count+=1\n",
    "if count == 0:\n",
    "    print('No vowels found')\n",
    "else:\n",
    "    print('Total vowels are :' + str(count))"
   ]
  },
  {
   "cell_type": "code",
   "execution_count": 76,
   "id": "4c9bd31c-11cd-4353-8471-f71bce5fcd82",
   "metadata": {},
   "outputs": [
    {
     "name": "stdin",
     "output_type": "stream",
     "text": [
      "Enter a string:  aieou\n"
     ]
    },
    {
     "name": "stdout",
     "output_type": "stream",
     "text": [
      "No consonant found\n"
     ]
    }
   ],
   "source": [
    "#6.Count the number of consonants in a string.\n",
    "consonants=0\n",
    "v=0\n",
    "user_input = input(\"Enter a string: \")\n",
    "string = user_input.lower() # convert string in case insensitive\n",
    "for x in string:\n",
    "    if x == 'a' or x == 'e' or x == 'i' or x == 'o' or x == 'u'or x==' ':\n",
    "        v=v+1\n",
    "    else:\n",
    "        consonants=consonants+1;\n",
    "if consonants==0:\n",
    "    print(\"No consonant found\");\n",
    "else:\n",
    "    print(\"The number of consonant:\",consonants);"
   ]
  },
  {
   "cell_type": "code",
   "execution_count": 10,
   "id": "5bc9d920-859b-4a3a-871f-4951428f08d2",
   "metadata": {},
   "outputs": [
    {
     "name": "stdin",
     "output_type": "stream",
     "text": [
      "enter a string that includes white space sss ss sss sss s\n"
     ]
    },
    {
     "name": "stdout",
     "output_type": "stream",
     "text": [
      "sss ss sss sss s\n"
     ]
    }
   ],
   "source": [
    "#7. Remove all whitespaces from a string.\n",
    "s5=input(\"enter a string that includes white space\")\n",
    "s6=s5.strip()\n",
    "print(s6)"
   ]
  },
  {
   "cell_type": "code",
   "execution_count": 2,
   "id": "d72138fe-c11c-444f-a0ee-d82346ff331d",
   "metadata": {},
   "outputs": [
    {
     "name": "stdin",
     "output_type": "stream",
     "text": [
      "enter a string shakti\n"
     ]
    },
    {
     "name": "stdout",
     "output_type": "stream",
     "text": [
      "The length of the string is 6\n"
     ]
    }
   ],
   "source": [
    "#8 Find the length of a string without using the `len()` function.\n",
    "s7 = input(\"enter a string\")\n",
    "count = 0\n",
    "for char in s7:  \n",
    "    count += 1\n",
    "print(\"The length of the string is\", count)"
   ]
  },
  {
   "cell_type": "code",
   "execution_count": null,
   "id": "3b8f7062-c579-420c-a018-58b492ebe1bc",
   "metadata": {},
   "outputs": [],
   "source": [
    "#9. Check if a string contains a specific word.\n",
    "s8=input(\"input a string\")\n",
    "spc_wrd=input(\"enter a specfic word to search in the string\")\n",
    "if spc_wrd in s8:\n",
    "    print(\"the string contains the word:\",spc_wrd)\n",
    "else:\n",
    "    print(\"the string does not contains the word:\",spc_wrd)"
   ]
  },
  {
   "cell_type": "code",
   "execution_count": 1,
   "id": "e3655ab9-fcc7-4850-b73d-0676e6e822a4",
   "metadata": {},
   "outputs": [
    {
     "name": "stdin",
     "output_type": "stream",
     "text": [
      "input a string shakti rajbhar\n",
      "enter a word to be replaced rajbhar\n",
      "enter new word verma\n"
     ]
    },
    {
     "name": "stdout",
     "output_type": "stream",
     "text": [
      "Modified string: shakti verma\n"
     ]
    }
   ],
   "source": [
    "#10. Replace a word in a string with another word.\n",
    "s9=input(\"input a string\")\n",
    "replace_wrd = input(\"enter a word to be replaced\")\n",
    "new_wrd = input(\"enter new word\")\n",
    "s10 = s9.replace(replace_wrd, new_wrd)\n",
    "print(\"Modified string:\", s10)"
   ]
  },
  {
   "cell_type": "code",
   "execution_count": 83,
   "id": "61aac6e0-8000-456b-b672-df2736bcabbc",
   "metadata": {},
   "outputs": [
    {
     "name": "stdin",
     "output_type": "stream",
     "text": [
      "enter a sentence hi this h ih h rawbrkj rbjkb urhabwjkbkjwa urbkbr b b b biu k n n \n",
      "enter word to check occurance n\n"
     ]
    },
    {
     "name": "stdout",
     "output_type": "stream",
     "text": [
      "The word 'n' appears 2 times in the input string.\n"
     ]
    }
   ],
   "source": [
    "#11. Count the occurrences of a word in a string.\n",
    "\n",
    "def count_word_occurrences(input_string, target_word):\n",
    "    word_count = 0\n",
    "    words = input_string.split()\n",
    "    for word in words:\n",
    "        if word == target_word:\n",
    "            word_count += 1\n",
    "    return word_count\n",
    "input_string = input(\"enter a sentence\")\n",
    "target_word = input(\"enter word to check occurance\")\n",
    "result = count_word_occurrences(input_string, target_word)\n",
    "print(f\"The word '{target_word}' appears {result} times in the input string.\")"
   ]
  },
  {
   "cell_type": "code",
   "execution_count": 5,
   "id": "1ffb04c6-30cc-442a-8e66-ba4b7dc8a6cb",
   "metadata": {},
   "outputs": [
    {
     "data": {
      "text/plain": [
       "6"
      ]
     },
     "execution_count": 5,
     "metadata": {},
     "output_type": "execute_result"
    }
   ],
   "source": [
    "#12 find the first occurrence of a word in a string.\n",
    "\n",
    "def first_occurance(sentence,word):\n",
    "    index = sentence.find(word)\n",
    "    if index ==-1:\n",
    "        return no_word_found\n",
    "    else:\n",
    "        return index\n",
    "first_occurance(\"hello world. Welcome to my world\",\"world\")"
   ]
  },
  {
   "cell_type": "code",
   "execution_count": 9,
   "id": "ea66dcc1-6f87-4958-924b-1a16e47141cb",
   "metadata": {},
   "outputs": [
    {
     "data": {
      "text/plain": [
       "16"
      ]
     },
     "execution_count": 9,
     "metadata": {},
     "output_type": "execute_result"
    }
   ],
   "source": [
    "#13 Find the last occurrence of a word in a string.\n",
    "def last_occurance(sentence,word):\n",
    "    index = sentence.rfind(word)\n",
    "    if index ==-1:\n",
    "        return no_word_found\n",
    "    else:\n",
    "        return index\n",
    "last_occurance(\"hi. how are you hero?\",\"h\")"
   ]
  },
  {
   "cell_type": "code",
   "execution_count": 10,
   "id": "783b896a-6127-4bfd-95b7-6c0e2964a671",
   "metadata": {},
   "outputs": [],
   "source": [
    "#14 Split a string into a list of words.\n",
    "\n",
    "def split_string(s):\n",
    "    s_list = s.split()\n",
    "    return s_list"
   ]
  },
  {
   "cell_type": "code",
   "execution_count": 11,
   "id": "0b630e11-f69d-478c-b108-fbd5619a0baa",
   "metadata": {},
   "outputs": [
    {
     "name": "stdout",
     "output_type": "stream",
     "text": [
      "['you', 'are', 'beautiful']\n"
     ]
    }
   ],
   "source": [
    "s = \" you are beautiful\"\n",
    "words = split_string(s)\n",
    "print(words)"
   ]
  },
  {
   "cell_type": "code",
   "execution_count": 14,
   "id": "02b68ecc-ebe3-4190-a7f7-de4364ca6f4e",
   "metadata": {},
   "outputs": [
    {
     "name": "stdout",
     "output_type": "stream",
     "text": [
      "string after join is: hello how are you?\n"
     ]
    }
   ],
   "source": [
    "#15 Join a list of words into a string.\n",
    "def join_wordstostring(words):\n",
    "    wrdstr = \" \".join(words)\n",
    "    return wrdstr\n",
    "words = ['hello','how','are','you?']\n",
    "text = join_wordstostring(words)\n",
    "print(\"string after join is:\",text)"
   ]
  },
  {
   "cell_type": "code",
   "execution_count": 15,
   "id": "298e607e-e0a4-468e-9ad5-960ade513f2b",
   "metadata": {},
   "outputs": [
    {
     "name": "stdout",
     "output_type": "stream",
     "text": [
      "converted text is: hello_how_are_you?\n"
     ]
    }
   ],
   "source": [
    "#16 Convert a string where words are separated by spaces to one where wordsare separated by underscores.\n",
    "def convert_underscoretosep(text):\n",
    "    sep = text.replace(\" \",\"_\")\n",
    "    return sep\n",
    "text = \"hello how are you?\"\n",
    "sep_text= convert_underscoretosep(text)\n",
    "print(\"converted text is:\", sep_text)\n"
   ]
  },
  {
   "cell_type": "code",
   "execution_count": 24,
   "id": "1918a9b3-2641-4e2e-81b3-bfc82055e7a9",
   "metadata": {},
   "outputs": [
    {
     "name": "stdout",
     "output_type": "stream",
     "text": [
      "The text starts with the prefix.\n"
     ]
    }
   ],
   "source": [
    "#17 Check if a string starts with a specific word or phrase.\n",
    "\n",
    "def starts_with(text, prefix):\n",
    "    start = text.startswith(prefix)\n",
    "    return start\n",
    "\n",
    "text = \"hello, how are you?!\"\n",
    "prefix = \"hello\"\n",
    "result = starts_with(text, prefix)\n",
    "if result:\n",
    "    print(\"The text starts with the prefix.\")\n",
    "else:\n",
    "    print(\"The text does not start with the prefix.\")"
   ]
  },
  {
   "cell_type": "code",
   "execution_count": 26,
   "id": "2853e664-5c29-48c2-bd5d-9181d631187a",
   "metadata": {},
   "outputs": [
    {
     "name": "stdout",
     "output_type": "stream",
     "text": [
      "text ends with suffix\n"
     ]
    }
   ],
   "source": [
    "#18 Check if a string ends with a specific word or phrase.\n",
    "def ends_wtih(text,suffix):\n",
    "    end = text.endswith(suffix)\n",
    "    return end\n",
    "text=\" hello how are you\"\n",
    "suffix =\"you\"\n",
    "result=ends_wtih(text,suffix)\n",
    "if result:\n",
    "    print(\"text ends with suffix\")\n",
    "else:\n",
    "    print(\"text does not end with suffix\")"
   ]
  },
  {
   "cell_type": "code",
   "execution_count": 29,
   "id": "5e000702-2bd5-487e-82f5-7d13d02224bc",
   "metadata": {},
   "outputs": [
    {
     "name": "stdout",
     "output_type": "stream",
     "text": [
      "title case string: Hi How Are You?\n"
     ]
    }
   ],
   "source": [
    "#19 Convert a string to title case \n",
    "\n",
    "def stringtotitlecase(text):\n",
    "    title_string = text.title()\n",
    "    return title_string\n",
    "\n",
    "a = stringtotitlecase(\"hi how are you?\")\n",
    "print(\"title case string:\", a)"
   ]
  },
  {
   "cell_type": "code",
   "execution_count": 32,
   "id": "b1bd8462-91b0-434f-bf05-7cf067484b98",
   "metadata": {},
   "outputs": [
    {
     "name": "stdout",
     "output_type": "stream",
     "text": [
      "longest word: beautiful\n"
     ]
    }
   ],
   "source": [
    "#20 Find the longest word in a string.\n",
    "\n",
    "def find_longest_word(text):\n",
    "    words = text.split()\n",
    "    longest_word = \"\"\n",
    "    max_length = 0\n",
    "    \n",
    "    for word in words:\n",
    "        if len(word) > max_length:\n",
    "            max_length = len(word)\n",
    "            longest_word = word\n",
    "    return longest_word\n",
    "a = find_longest_word(\"hello you are beautiful\")\n",
    "print(\"longest word:\",a)"
   ]
  },
  {
   "cell_type": "code",
   "execution_count": 8,
   "id": "8f71982a-907e-4b91-a8c8-e45be6a5b8e1",
   "metadata": {},
   "outputs": [],
   "source": [
    "#21 Find the shortest word in a string.\n",
    "\n",
    "def find_shortest_word(text):\n",
    "    words = text.split()\n",
    "    shortest_word = None\n",
    "    min_length = float('inf')\n",
    "    \n",
    "    for word in words:\n",
    "        if len(word)<min_length:\n",
    "            min_length = len(word)\n",
    "            shortest_word= word\n",
    "        return shortest_word\n"
   ]
  },
  {
   "cell_type": "code",
   "execution_count": 9,
   "id": "09750dd5-d1d2-4b9e-8cc8-b4dd470fa41f",
   "metadata": {},
   "outputs": [
    {
     "name": "stdout",
     "output_type": "stream",
     "text": [
      "shortest word is: hello\n"
     ]
    }
   ],
   "source": [
    "text = \"hello my name is shakti\"\n",
    "shortest_word = find_shortest_word(text)\n",
    "print(\"shortest word is:\", shortest_word)"
   ]
  },
  {
   "cell_type": "code",
   "execution_count": 11,
   "id": "f58f5adb-061e-4c76-a730-3d8f660c8d40",
   "metadata": {},
   "outputs": [
    {
     "name": "stdin",
     "output_type": "stream",
     "text": [
      "enter a string to reverse shakti is a boy\n"
     ]
    },
    {
     "name": "stdout",
     "output_type": "stream",
     "text": [
      "boy a is shakti\n"
     ]
    }
   ],
   "source": [
    "#22 Reverse the order of words in a string.\n",
    "\n",
    "string = input(\"enter a string to reverse\")\n",
    "words = string.split() # splitting the string on space\n",
    "words = list(reversed(words)) # reversing the words using reversed() function\n",
    "print(\" \".join(words)) #joining the words and printing"
   ]
  },
  {
   "cell_type": "code",
   "execution_count": 15,
   "id": "3088ee1e-e5bb-4621-9971-43b8f818eefb",
   "metadata": {},
   "outputs": [
    {
     "name": "stdout",
     "output_type": "stream",
     "text": [
      "string is not alphanumeric\n"
     ]
    }
   ],
   "source": [
    "#23 Check if a string is alphanumeric.\n",
    "\n",
    "def alphanumeric(text):\n",
    "    return text.isalnum()  #using this method to check is string is alphanumeric\n",
    "\n",
    "text = \"hello how are you ?\"\n",
    "result = alphanumeric(text)\n",
    "if result:\n",
    "    print(\"string is alphanumeric\")\n",
    "else:\n",
    "    print(\"string is not alphanumeric\")"
   ]
  },
  {
   "cell_type": "code",
   "execution_count": 17,
   "id": "5cb9e828-a348-4be1-98f2-9c1d847ec7e4",
   "metadata": {},
   "outputs": [],
   "source": [
    "# 24 extract all digits from string\n",
    "\n",
    "def fetch_digits(text): \n",
    "    digits = \"\"\n",
    "    for char in text:\n",
    "        if char.isdigit(): #using isdigit() method to check each character by iterating through for loop\n",
    "            digits += char  #append digit to string digit\n",
    "    return digits\n"
   ]
  },
  {
   "cell_type": "code",
   "execution_count": 21,
   "id": "0347f3b6-c6d9-4552-9620-e8793e9c062e",
   "metadata": {},
   "outputs": [
    {
     "name": "stdout",
     "output_type": "stream",
     "text": [
      "Fetched digits from the string: 12115454\n"
     ]
    }
   ],
   "source": [
    "text = \"121hskahkawnbdwd15454dwdawd\"\n",
    "extracted_digits = fetch_digits(text)\n",
    "print(\"Fetched digits from the string:\", extracted_digits)"
   ]
  },
  {
   "cell_type": "code",
   "execution_count": 25,
   "id": "a17565f6-79fe-4e9b-9e64-98eda566c943",
   "metadata": {},
   "outputs": [
    {
     "name": "stdout",
     "output_type": "stream",
     "text": [
      "H e l l o W o r l d\n"
     ]
    }
   ],
   "source": [
    "#25 Extract all alphabets from a string.\n",
    "\n",
    "def extract_alpha(inp_string):\n",
    "    alphabets = ' '.join([char for char in inp_string if char.isalpha()])\n",
    "    return alphabets\n",
    "\n",
    "\n",
    "inp_string = \"Hello123World456\"\n",
    "result = extract_alpha(inp_string)\n",
    "print(result)"
   ]
  },
  {
   "cell_type": "code",
   "execution_count": 30,
   "id": "46c6d868-da71-4ad1-88f0-602b522ee8e3",
   "metadata": {},
   "outputs": [
    {
     "name": "stdin",
     "output_type": "stream",
     "text": [
      "Enter string: shaktiK\n"
     ]
    },
    {
     "name": "stdout",
     "output_type": "stream",
     "text": [
      "The number of uppercase characters is:\n",
      "1\n"
     ]
    }
   ],
   "source": [
    "#26 Count the number of uppercase letters in a string.\n",
    "\n",
    "string= input(\"Enter string:\")\n",
    "count1=0\n",
    "count2=0\n",
    "for i in string:\n",
    "      if(i.islower()):\n",
    "            count1=count1+1\n",
    "      elif(i.isupper()):\n",
    "            count2=count2+1\n",
    "print(\"The number of uppercase characters is:\")\n",
    "print(count2)"
   ]
  },
  {
   "cell_type": "code",
   "execution_count": 29,
   "id": "1c183694-efa1-46d6-b715-644eab91fafb",
   "metadata": {},
   "outputs": [
    {
     "name": "stdin",
     "output_type": "stream",
     "text": [
      "Enter string: shbaghsbHBHBHBHBdkjjk\n"
     ]
    },
    {
     "name": "stdout",
     "output_type": "stream",
     "text": [
      "The number of lowercase characters is:\n",
      "13\n"
     ]
    }
   ],
   "source": [
    "#27 Count the number of lowercase letters in a string.\n",
    "\n",
    "string= input(\"Enter string:\")\n",
    "count1=0\n",
    "count2=0\n",
    "for i in string:\n",
    "      if(i.islower()):\n",
    "            count1=count1+1\n",
    "      elif(i.isupper()):\n",
    "            count2=count2+1\n",
    "print(\"The number of lowercase characters is:\")\n",
    "print(count1)"
   ]
  },
  {
   "cell_type": "code",
   "execution_count": 32,
   "id": "45b67732-3666-4a9f-a028-488328ff938f",
   "metadata": {},
   "outputs": [
    {
     "name": "stdout",
     "output_type": "stream",
     "text": [
      " SHAKTIRAJBHAR\n"
     ]
    }
   ],
   "source": [
    "#28 Swap the case of each character in a string.\n",
    "\n",
    "def swap_case(input_string):\n",
    "    swapped_string = input_string.swapcase()\n",
    "    return swapped_string\n",
    "\n",
    "# Example input string\n",
    "input_string = \" shaktirajbhar\"\n",
    "result = swap_case(input_string)\n",
    "print(result)"
   ]
  },
  {
   "cell_type": "code",
   "execution_count": 34,
   "id": "9242da87-636a-4271-bd0c-60dcb6f57ddb",
   "metadata": {},
   "outputs": [
    {
     "name": "stdout",
     "output_type": "stream",
     "text": [
      "we are learning from pw skills\n"
     ]
    }
   ],
   "source": [
    "# 29. Remove a specific word from a string.\n",
    "\n",
    "def remove_word(input_string, word_to_remove):\n",
    "    words = input_string.split() \n",
    "    filtered_words = [word for word in words if word != word_to_remove]  \n",
    "    modified_string = ' '.join(filtered_words)  \n",
    "    return modified_string\n",
    "\n",
    "input_string = \"we are learning python from pw skills\"\n",
    "word_to_remove = \"python\"\n",
    "result = remove_word(input_string, word_to_remove)\n",
    "print(result)"
   ]
  },
  {
   "cell_type": "code",
   "execution_count": 41,
   "id": "3f223120-dc07-4180-82da-94c658f00ff2",
   "metadata": {},
   "outputs": [
    {
     "name": "stdout",
     "output_type": "stream",
     "text": [
      "True\n",
      "False\n"
     ]
    }
   ],
   "source": [
    "# 30 Check if a string is a valid email address.\n",
    "import re\n",
    "def valid_email(email):\n",
    "    pattern = r'^[\\w\\.-]+@[\\w\\.-]+\\.\\w+$'  \n",
    "    if re.match(pattern, email):\n",
    "        return True\n",
    "    else:\n",
    "        return False\n",
    "\n",
    "\n",
    "email1 = \"example@email.com\"\n",
    "email2 = \"invalid-email\"\n",
    "result1 = valid_email(email1)\n",
    "result2 = valid_email(email2)\n",
    "print(result1)\n",
    "print(result2)"
   ]
  },
  {
   "cell_type": "code",
   "execution_count": 45,
   "id": "e7256243-e60f-4844-a84f-fdf94cf27cea",
   "metadata": {},
   "outputs": [
    {
     "name": "stdout",
     "output_type": "stream",
     "text": [
      "shakti.rajbhar\n"
     ]
    }
   ],
   "source": [
    "# 31. Extract the username from an email address string.\n",
    "def extract_username(email):\n",
    "    username = email.split('@')[0] \n",
    "    return username\n",
    "\n",
    "\n",
    "email = \"shakti.rajbhar@gmail.com\"\n",
    "result = extract_username(email)\n",
    "print(result)"
   ]
  },
  {
   "cell_type": "code",
   "execution_count": 44,
   "id": "64d8aa3a-c5e9-437b-97f4-39b0ae7aa069",
   "metadata": {},
   "outputs": [
    {
     "name": "stdout",
     "output_type": "stream",
     "text": [
      "gmail.com\n"
     ]
    }
   ],
   "source": [
    "#32. Extract the domain name from an email address string.\n",
    "\n",
    "def extract_domain(email):\n",
    "    domain = email.split('@')[1]  # Split the email address at \"@\" and take the second part\n",
    "    return domain\n",
    "\n",
    "# Example email address\n",
    "email = \"shakti.rajbhar@gmail.com\"\n",
    "result = extract_domain(email)\n",
    "print(result)"
   ]
  },
  {
   "cell_type": "code",
   "execution_count": 47,
   "id": "c1326806-a3f7-4c2c-b9a9-b41db252ec71",
   "metadata": {},
   "outputs": [
    {
     "name": "stdout",
     "output_type": "stream",
     "text": [
      "We are learning DSA\n"
     ]
    }
   ],
   "source": [
    "#33 Replace multiple spaces in a string with a single space.\n",
    "\n",
    "def replace_multiple_spaces(input_string):\n",
    "    cleaned_string = ' '.join(input_string.split())  \n",
    "    return cleaned_string\n",
    "input_string = \"We    are   learning DSA\"\n",
    "result = replace_multiple_spaces(input_string)\n",
    "print(result)"
   ]
  },
  {
   "cell_type": "code",
   "execution_count": 49,
   "id": "f25eb7e8-a877-433a-bafc-17111f9858fa",
   "metadata": {},
   "outputs": [
    {
     "name": "stdout",
     "output_type": "stream",
     "text": [
      "True\n",
      "False\n"
     ]
    }
   ],
   "source": [
    "#34. Check if a string is a valid URL.\n",
    "\n",
    "from urllib.parse import urlparse\n",
    "\n",
    "def is_valid_url(url):\n",
    "    try:\n",
    "        result = urlparse(url)\n",
    "        return all([result.scheme, result.netloc])  \n",
    "    except ValueError:\n",
    "        return False\n",
    "    \n",
    "\n",
    "url1 = \"https://www.shakti.com\"\n",
    "url2 = \"invalid-url\"\n",
    "result1 = is_valid_url(url1)\n",
    "result2 = is_valid_url(url2)\n",
    "print(result1)  # Should print True\n",
    "print(result2)  # Should print False"
   ]
  },
  {
   "cell_type": "code",
   "execution_count": 52,
   "id": "e0358794-8c7a-475f-ac64-1e605fbaa9c4",
   "metadata": {},
   "outputs": [
    {
     "name": "stdout",
     "output_type": "stream",
     "text": [
      "Protocol 1: https\n",
      "Protocol 2: http\n",
      "Protocol 3: ftp\n"
     ]
    }
   ],
   "source": [
    "#35 Extract the protocol (http or https) from a URL string.\n",
    "\n",
    "def extract_protocol(url):\n",
    "\n",
    "    protocol_end = url.find(\"://\")\n",
    "\n",
    "    if protocol_end != -1:\n",
    "    \n",
    "        protocol = url[:protocol_end]\n",
    "        return protocol\n",
    "    else:\n",
    "        return None\n",
    "\n",
    "\n",
    "url1 = \"https://www.example.com\" # Example URL strings\n",
    "url2 = \"http://google.com\"\n",
    "url3 = \"ftp://ftp.example.com\"\n",
    "\n",
    "\n",
    "protocol1 = extract_protocol(url1) # Extract protocols\n",
    "protocol2 = extract_protocol(url2)\n",
    "protocol3 = extract_protocol(url3)\n",
    "\n",
    "print(\"Protocol 1:\", protocol1) # Print extracted protocols\n",
    "print(\"Protocol 2:\", protocol2)\n",
    "print(\"Protocol 3:\", protocol3)"
   ]
  },
  {
   "cell_type": "code",
   "execution_count": 53,
   "id": "26a5ca9a-2c1a-43e8-a728-f6cbcead8fd8",
   "metadata": {},
   "outputs": [
    {
     "name": "stdout",
     "output_type": "stream",
     "text": [
      "Character: 'h', Frequency: 1\n",
      "Character: 'e', Frequency: 1\n",
      "Character: 'l', Frequency: 3\n",
      "Character: 'o', Frequency: 2\n",
      "Character: ' ', Frequency: 1\n",
      "Character: 'w', Frequency: 1\n",
      "Character: 'r', Frequency: 1\n",
      "Character: 'd', Frequency: 1\n"
     ]
    }
   ],
   "source": [
    "#36 Find the frequency of each character in a string\n",
    "\n",
    "def character_frequency(input_string):\n",
    "    frequency = {}  \n",
    "\n",
    "    for char in input_string:\n",
    "        if char in frequency:\n",
    "            frequency[char] += 1 \n",
    "        else:\n",
    "            frequency[char] = 1   \n",
    "\n",
    "    return frequency\n",
    "\n",
    "input_str = \"hello world\"\n",
    "\n",
    "char_freq = character_frequency(input_str)\n",
    "\n",
    "for char, freq in char_freq.items():\n",
    "    print(f\"Character: '{char}', Frequency: {freq}\")"
   ]
  },
  {
   "cell_type": "code",
   "execution_count": 55,
   "id": "0e839b81-d1f0-4461-9ac6-84f131ae9ca0",
   "metadata": {},
   "outputs": [
    {
     "name": "stdout",
     "output_type": "stream",
     "text": [
      "Original string: hello, shakti how's you?\n",
      "Cleaned string: hello shakti hows you\n"
     ]
    }
   ],
   "source": [
    "#37 \n",
    "\n",
    "import string\n",
    "def remove_punctuation(input_string):\n",
    "    translator = str.maketrans(\"\", \"\", string.punctuation)\n",
    "    clean_string = input_string.translate(translator)\n",
    "    return clean_string\n",
    "\n",
    "\n",
    "input_str = \"hello, shakti how's you?\"\n",
    "\n",
    "cleaned_str = remove_punctuation(input_str)\n",
    "\n",
    "print(\"Original string:\", input_str)\n",
    "print(\"Cleaned string:\", cleaned_str)"
   ]
  },
  {
   "cell_type": "code",
   "execution_count": 57,
   "id": "9eb5c01c-23fb-48d2-bcaf-4bc3e4796ecb",
   "metadata": {},
   "outputs": [
    {
     "name": "stdout",
     "output_type": "stream",
     "text": [
      "'12345' contains only digits: True\n",
      "'Hello123' contains only digits: False\n",
      "'456.789' contains only digits: False\n"
     ]
    }
   ],
   "source": [
    "#38 Check if a string contains only digits.\n",
    "\n",
    "def contains_only_digits(input_string):\n",
    "    return input_string.isdigit()\n",
    "\n",
    "string1 = \"12345\"\n",
    "string2 = \"Hello123\"\n",
    "string3 = \"456.789\"\n",
    "\n",
    "result1 = contains_only_digits(string1)\n",
    "result2 = contains_only_digits(string2)\n",
    "result3 = contains_only_digits(string3)\n",
    "\n",
    "print(f\"'{string1}' contains only digits:\", result1)\n",
    "print(f\"'{string2}' contains only digits:\", result2)\n",
    "print(f\"'{string3}' contains only digits:\", result3)"
   ]
  },
  {
   "cell_type": "code",
   "execution_count": 58,
   "id": "e0613f52-469f-4ce4-8016-9355886a76c8",
   "metadata": {},
   "outputs": [
    {
     "name": "stdout",
     "output_type": "stream",
     "text": [
      "'Hello' contains only alphabets: True\n",
      "'Hello123' contains only alphabets: False\n",
      "'12345' contains only alphabets: False\n"
     ]
    }
   ],
   "source": [
    "#39  Check if a string contains only alphabets.\n",
    "\n",
    "def contains_only_alphabets(input_string):\n",
    "    return input_string.isalpha()\n",
    "\n",
    "string1 = \"Hello\"\n",
    "string2 = \"Hello123\"\n",
    "string3 = \"12345\"\n",
    "result1 = contains_only_alphabets(string1)\n",
    "result2 = contains_only_alphabets(string2)\n",
    "result3 = contains_only_alphabets(string3)\n",
    "print(f\"'{string1}' contains only alphabets:\", result1)\n",
    "print(f\"'{string2}' contains only alphabets:\", result2)\n",
    "print(f\"'{string3}' contains only alphabets:\", result3)"
   ]
  },
  {
   "cell_type": "code",
   "execution_count": 60,
   "id": "a80616b0-39a6-4db9-9c87-324594f6fd47",
   "metadata": {},
   "outputs": [
    {
     "name": "stdout",
     "output_type": "stream",
     "text": [
      "Original string: Hello, world!\n",
      "List of characters: ['H', 'e', 'l', 'l', 'o', ',', ' ', 'w', 'o', 'r', 'l', 'd', '!']\n"
     ]
    }
   ],
   "source": [
    "#40 Convert a string to a list of characters.\n",
    "\n",
    "def string_to_list(input_string):\n",
    "    char_list = list(input_string)\n",
    "    return char_list\n",
    "\n",
    "input_str = \"Hello, world!\"\n",
    "\n",
    "char_list = string_to_list(input_str)\n",
    "\n",
    "print(\"Original string:\", input_str)\n",
    "print(\"List of characters:\", char_list)"
   ]
  },
  {
   "cell_type": "code",
   "execution_count": 62,
   "id": "568a6b4c-85d2-497c-9018-158212417c81",
   "metadata": {},
   "outputs": [
    {
     "name": "stdout",
     "output_type": "stream",
     "text": [
      "'listen' and 'silent' are anagrams: True\n",
      "'hello' and 'world' are anagrams: False\n"
     ]
    }
   ],
   "source": [
    "#41 Check if two strings are anagrams.\n",
    "\n",
    "def are_anagrams(str1, str2):\n",
    "    str1 = str1.replace(\" \", \"\").lower()\n",
    "    str2 = str2.replace(\" \", \"\").lower()\n",
    "    return sorted(str1) == sorted(str2)\n",
    "\n",
    "string1 = \"listen\"\n",
    "string2 = \"silent\"\n",
    "string3 = \"hello\"\n",
    "string4 = \"world\"\n",
    "\n",
    "result1 = are_anagrams(string1, string2)\n",
    "result2 = are_anagrams(string3, string4)\n",
    "\n",
    "print(f\"'{string1}' and '{string2}' are anagrams:\", result1)\n",
    "print(f\"'{string3}' and '{string4}' are anagrams:\", result2)\n"
   ]
  },
  {
   "cell_type": "code",
   "execution_count": 76,
   "id": "fea4d3bd-9b2f-48f6-adbf-ece2803930ce",
   "metadata": {},
   "outputs": [
    {
     "name": "stdout",
     "output_type": "stream",
     "text": [
      "Encoded text: ehoor, zruog!\n"
     ]
    }
   ],
   "source": [
    "#42  Encode a string using a Caesar cipher.\n",
    "\n",
    "\n",
    "def caesar_cipher(text, shift):\n",
    "  \"\"\"\n",
    "  Encodes a string using a Caesar cipher.\n",
    "\n",
    "  Args:\n",
    "    text: The string to encode.\n",
    "    shift: The number of positions to shift each letter.\n",
    "\n",
    "  Returns:\n",
    "    The encoded string.\n",
    "  \"\"\"\n",
    "\n",
    " \n",
    "  encoded_text = \"\"\n",
    "\n",
    "  \n",
    "  for char in text:\n",
    "    \n",
    "    if char.isalpha():\n",
    "       encoded_char = chr((ord(char) + shift - ord('a')) % 26 + ord('a'))\n",
    "    else:\n",
    "      \n",
    "      encoded_char = char\n",
    "\n",
    "    \n",
    "    encoded_text += encoded_char\n",
    "\n",
    "  # Return the resulting encoded text.\n",
    "  return encoded_text\n",
    "\n",
    "text = \"Hello, world!\"\n",
    "shift = 3\n",
    "\n",
    "encoded_text = caesar_cipher(text, shift)\n",
    "\n",
    "print(\"Encoded text:\", encoded_text)"
   ]
  },
  {
   "cell_type": "code",
   "execution_count": 77,
   "id": "d6e54840-460e-462e-b7e3-05616f2eeb7d",
   "metadata": {},
   "outputs": [
    {
     "name": "stdout",
     "output_type": "stream",
     "text": [
      "Decoded text: ilmm, world!\n"
     ]
    }
   ],
   "source": [
    "# 43 . Decode a Caesar cipher encoded string.\n",
    "\n",
    "# Define a function to decode a string using a Caesar cipher\n",
    "def caesar_cipher_decoder(text, shift):\n",
    "    \"\"\"\n",
    "    Decodes a string using a Caesar cipher.\n",
    "\n",
    "    Args:\n",
    "        text: The string to decode.\n",
    "        shift: The number of positions to shift each letter.\n",
    "\n",
    "    Returns:\n",
    "        The decoded string.\n",
    "    \"\"\"\n",
    "\n",
    "    # Initialize an empty string to store the decoded text\n",
    "    decoded_text = \"\"\n",
    "\n",
    "    # Loop through each character in the input text\n",
    "    for char in text:\n",
    "        # Check if the character is an alphabetic character\n",
    "        if char.isalpha():\n",
    "            # Calculate the decoded character using the shift value\n",
    "            decoded_char = chr((ord(char) - shift - ord('a')) % 26 + ord('a'))\n",
    "        else:\n",
    "            # If the character is not alphabetic, keep it unchanged\n",
    "            decoded_char = char\n",
    "\n",
    "        # Add the decoded character to the decoded text\n",
    "        decoded_text += decoded_char\n",
    "\n",
    "    # Return the fully decoded text\n",
    "    return decoded_text\n",
    "\n",
    "# Example input\n",
    "text = \"lopp, zruog!\"\n",
    "shift = 3\n",
    "\n",
    "# Call the caesar_cipher_decoder function to decode the input text\n",
    "decoded_text = caesar_cipher_decoder(text, shift)\n",
    "\n",
    "# Print the decoded text\n",
    "print(\"Decoded text:\", decoded_text)"
   ]
  },
  {
   "cell_type": "code",
   "execution_count": 80,
   "id": "02a7b034-c81b-4c03-b8a2-c8d1986b8a3e",
   "metadata": {},
   "outputs": [
    {
     "name": "stdout",
     "output_type": "stream",
     "text": [
      "Most frequent word: hello\n"
     ]
    }
   ],
   "source": [
    "#44 Find the most frequent word in a string.\n",
    "\n",
    "import re\n",
    "from collections import Counter\n",
    "\n",
    "def most_frequent_word(input_string):\n",
    "    clean_string = re.sub(r'[^\\w\\s]', '', input_string).lower()\n",
    "\n",
    "   \n",
    "    words = clean_string.split()\n",
    "\n",
    "   \n",
    "    word_counter = Counter(words)\n",
    "\n",
    "   \n",
    "    most_common_word = word_counter.most_common(1)[0][0]\n",
    "    return most_common_word\n",
    "\n",
    "input_str = \"Hello world, hello there! How's the world?\"\n",
    "\n",
    "most_common = most_frequent_word(input_str)\n",
    "print(\"Most frequent word:\", most_common)"
   ]
  },
  {
   "cell_type": "code",
   "execution_count": 82,
   "id": "5f359e39-c0b4-433f-99b1-8ed04dc6a48b",
   "metadata": {},
   "outputs": [
    {
     "name": "stdout",
     "output_type": "stream",
     "text": [
      "Unique words: {'hello', 'hows', 'world', 'the', 'there'}\n"
     ]
    }
   ],
   "source": [
    "#45 Find all unique words in a string.\n",
    "\n",
    "import re\n",
    "\n",
    "def unique_words(input_string):\n",
    "    clean_string = re.sub(r'[^\\w\\s]', '', input_string).lower()\n",
    "\n",
    "    words = set(clean_string.split())\n",
    "\n",
    "    return words\n",
    "\n",
    "\n",
    "input_str = \"Hello world, hello there! How's the world?\"\n",
    "\n",
    "unique_word_set = unique_words(input_str)\n",
    "\n",
    "print(\"Unique words:\", unique_word_set)"
   ]
  },
  {
   "cell_type": "code",
   "execution_count": 83,
   "id": "83301436-dc7b-4ed0-af29-b55e2f62e27d",
   "metadata": {},
   "outputs": [
    {
     "name": "stdout",
     "output_type": "stream",
     "text": [
      "'hello' has 2 syllables.\n",
      "'banana' has 3 syllables.\n",
      "'syllable' has 3 syllables.\n"
     ]
    }
   ],
   "source": [
    "#46 46. Count the number of syllables in a string.\n",
    "import re\n",
    "\n",
    "def count_syllables(word):\n",
    "\n",
    "    vowel_groups = re.findall(r'[aeiouy]+', word, re.IGNORECASE)\n",
    "\n",
    "    return len(vowel_groups)\n",
    "\n",
    "\n",
    "word1 = \"hello\"\n",
    "word2 = \"banana\"\n",
    "word3 = \"syllable\"\n",
    "\n",
    "syllables1 = count_syllables(word1)\n",
    "syllables2 = count_syllables(word2)\n",
    "syllables3 = count_syllables(word3)\n",
    "\n",
    "print(f\"'{word1}' has {syllables1} syllables.\")\n",
    "print(f\"'{word2}' has {syllables2} syllables.\")\n",
    "print(f\"'{word3}' has {syllables3} syllables.\")"
   ]
  },
  {
   "cell_type": "code",
   "execution_count": 84,
   "id": "9d42b323-56aa-4c99-b061-0cf79c67cc15",
   "metadata": {},
   "outputs": [
    {
     "name": "stdout",
     "output_type": "stream",
     "text": [
      "'Hello, world!' contains special characters: True\n",
      "'This is a test.' contains special characters: True\n",
      "'Special@Characters' contains special characters: True\n"
     ]
    }
   ],
   "source": [
    "#47. Check if a string contains any special characters.\n",
    "import re\n",
    "\n",
    "def contains_special_characters(input_string):\n",
    "    \n",
    "    pattern = re.compile(r'[!@#$%^&*()_+{}\\[\\]:;<>,.?~\\\\/]')\n",
    "\n",
    "    \n",
    "    match = pattern.search(input_string)\n",
    "\n",
    "    \n",
    "    return bool(match)\n",
    "\n",
    "\n",
    "string1 = \"Hello, world!\"\n",
    "string2 = \"This is a test.\"\n",
    "string3 = \"Special@Characters\"\n",
    "\n",
    "\n",
    "result1 = contains_special_characters(string1)\n",
    "result2 = contains_special_characters(string2)\n",
    "result3 = contains_special_characters(string3)\n",
    "\n",
    "\n",
    "print(f\"'{string1}' contains special characters:\", result1)\n",
    "print(f\"'{string2}' contains special characters:\", result2)\n",
    "print(f\"'{string3}' contains special characters:\", result3)\n"
   ]
  },
  {
   "cell_type": "code",
   "execution_count": 87,
   "id": "6bd368d8-41cb-4df4-b8f4-b64d95541a25",
   "metadata": {},
   "outputs": [
    {
     "name": "stdout",
     "output_type": "stream",
     "text": [
      "Original string: This is an example sentence to test the function.\n",
      "Modified string: This is an sentence to test the function.\n",
      "Removed word: example\n"
     ]
    }
   ],
   "source": [
    "#48 48. Remove the nth word from a string.\n",
    "\n",
    "def remove_nth_word(input_string, n):\n",
    "    \n",
    "    words = input_string.split()\n",
    "\n",
    "    \n",
    "    if n >= 1 and n <= len(words):\n",
    "       \n",
    "        removed_word = words.pop(n - 1)\n",
    "\n",
    "        \n",
    "        modified_string = ' '.join(words)\n",
    "\n",
    "        return modified_string, removed_word\n",
    "    else:\n",
    "        return None, None\n",
    "\n",
    "input_str = \"This is an example sentence to test the function.\"\n",
    "n_value = 4\n",
    "\n",
    "modified_str, removed_word = remove_nth_word(input_str, n_value)\n",
    "\n",
    "print(\"Original string:\", input_str)\n",
    "if modified_str is not None:\n",
    "    print(\"Modified string:\", modified_str)\n",
    "    print(\"Removed word:\", removed_word)\n",
    "else:\n",
    "    print(\"Invalid n value.\")"
   ]
  },
  {
   "cell_type": "code",
   "execution_count": 89,
   "id": "5025fbd7-a8cf-48cc-9b3e-05c7ad76a711",
   "metadata": {},
   "outputs": [
    {
     "name": "stdout",
     "output_type": "stream",
     "text": [
      "The original string : shaktirajbhar\n",
      "The add string : amarnath\n"
     ]
    },
    {
     "name": "stdin",
     "output_type": "stream",
     "text": [
      "enter a number 6\n"
     ]
    },
    {
     "name": "stdout",
     "output_type": "stream",
     "text": [
      "The string after performing addition : shaktiamarnathrajbhar\n"
     ]
    }
   ],
   "source": [
    "#49 Insert a word at the nth position in a string.\n",
    "\n",
    "\n",
    "test_string = 'shaktirajbhar'\n",
    " \n",
    "\n",
    "add_string = \"amarnath\"\n",
    " \n",
    "\n",
    "print(\"The original string : \" + test_string)\n",
    " \n",
    "print(\"The add string : \" + add_string)\n",
    "\n",
    "N = int(input(\"enter a number\"))\n",
    " \n",
    "res = test_string[ : N] + add_string + test_string[N : ]\n",
    "     \n",
    "print(\"The string after performing addition : \" + str(res))"
   ]
  },
  {
   "cell_type": "code",
   "execution_count": 1,
   "id": "8950b232-fb65-445d-b65d-207fb20f3a97",
   "metadata": {},
   "outputs": [
    {
     "name": "stdout",
     "output_type": "stream",
     "text": [
      "['Name', ' Age', ' Country']\n",
      "['shakti', ' 25', ' IND']\n",
      "['Rahul', ' 33', ' Canada']\n",
      "['bablu', ' 22', ' UK']\n"
     ]
    }
   ],
   "source": [
    "#50 Convert a CSV string to a list of lists.\n",
    "\n",
    "def csv_string_to_list(csv_string):\n",
    "    lines = csv_string.split('\\n')\n",
    "\n",
    "    result = []\n",
    "\n",
    "    for line in lines:\n",
    "\n",
    "        fields = line.split(',')\n",
    "\n",
    "   \n",
    "        result.append(fields)\n",
    "\n",
    "    return result\n",
    "\n",
    "\n",
    "csv_data = \"Name, Age, Country\\nshakti, 25, IND\\nRahul, 33, Canada\\nbablu, 22, UK\"\n",
    "\n",
    "\n",
    "list_of_lists = csv_string_to_list(csv_data)\n",
    "\n",
    "\n",
    "for row in list_of_lists:\n",
    "    print(row)"
   ]
  },
  {
   "cell_type": "code",
   "execution_count": 2,
   "id": "cb54b18f-3299-4bca-945b-044862a09722",
   "metadata": {},
   "outputs": [
    {
     "name": "stdout",
     "output_type": "stream",
     "text": [
      "[1, 2, 3, 4, 5, 6, 7, 8, 9, 10]\n",
      "[1, 2, 3, 4, 5, 6, 7, 8, 9, 10]\n"
     ]
    }
   ],
   "source": [
    "#lsit based \n",
    "#1.  Create a list with integers from 1 to 10.\n",
    "\n",
    "l1 = [i for i in range(1, 11)] #list comprehension\n",
    "l2= [1,2,3,4,5,6,7,8,9,10]\n",
    "# Print the list\n",
    "print(l1)\n",
    "print(l2)\n",
    "\n"
   ]
  },
  {
   "cell_type": "code",
   "execution_count": 13,
   "id": "93ca4427-607b-4868-b056-611c69953e97",
   "metadata": {},
   "outputs": [
    {
     "name": "stdout",
     "output_type": "stream",
     "text": [
      "5\n"
     ]
    }
   ],
   "source": [
    "#2  Find the length of a list without using the len() function.\n",
    "\n",
    "l = [1,2,3,4,5]\n",
    "count = 0\n",
    "for i in l: \n",
    "    count+=1\n",
    "print(count)"
   ]
  },
  {
   "cell_type": "code",
   "execution_count": 16,
   "id": "88f1b38b-11d8-4a2e-8c3c-13041116bb3a",
   "metadata": {},
   "outputs": [
    {
     "name": "stdout",
     "output_type": "stream",
     "text": [
      "Updated list elements: [10, 20, 30, 40]\n"
     ]
    }
   ],
   "source": [
    "#3 Append an element to the end of a list.\n",
    "l = [10, 20, 30]\n",
    "element = 40\n",
    "l.append(element)\n",
    "print(\"Updated list elements:\", l)"
   ]
  },
  {
   "cell_type": "code",
   "execution_count": 23,
   "id": "0e3ac2e3-3ef1-41d9-a1fe-994bc49cfe5f",
   "metadata": {},
   "outputs": [
    {
     "name": "stdout",
     "output_type": "stream",
     "text": [
      "updated list is: [1, 2, 3, 4, 5, 6, 7, 8, 9]\n"
     ]
    }
   ],
   "source": [
    "#4 Insert an element at a specific index in a list.\n",
    "\n",
    "l = [1,2,3,4,6,7,8,9]\n",
    "insert_element = 5\n",
    "\n",
    "insert_index = 4\n",
    "\n",
    "l.insert(insert_index,insert_element)\n",
    "\n",
    "print(\"updated list is:\", l)\n"
   ]
  },
  {
   "cell_type": "code",
   "execution_count": 25,
   "id": "000cc741-093f-4c82-993b-c469c07ec414",
   "metadata": {},
   "outputs": [
    {
     "name": "stdout",
     "output_type": "stream",
     "text": [
      "updated list is: [1, 2, 3, 6, 7, 8, 9]\n"
     ]
    }
   ],
   "source": [
    "#5 Remove an element from a list by its value.\n",
    "l = [1,2,3,4,6,7,8,9]\n",
    "remove_element = 4\n",
    "l.remove(remove_element)\n",
    "print(\"updated list is:\", l)"
   ]
  },
  {
   "cell_type": "code",
   "execution_count": 2,
   "id": "6a80c32b-681a-4dd4-9805-b3e9d6bece46",
   "metadata": {},
   "outputs": [
    {
     "name": "stdout",
     "output_type": "stream",
     "text": [
      "Updated list: [1, 2, 4, 5]\n",
      "Removed element: 3\n"
     ]
    }
   ],
   "source": [
    "#6 Remove an element from a list by its index.\n",
    "\n",
    "list = [1, 2, 3, 4, 5]\n",
    "index_to_remove = 2\n",
    "removed_element = list.pop(index_to_remove)\n",
    "print(\"Updated list:\", list)\n",
    "print(\"Removed element:\", removed_element)"
   ]
  },
  {
   "cell_type": "code",
   "execution_count": 3,
   "id": "3520fa03-850b-4e91-9995-759843348406",
   "metadata": {},
   "outputs": [
    {
     "name": "stdout",
     "output_type": "stream",
     "text": [
      "10 exists in the list.\n"
     ]
    }
   ],
   "source": [
    "#7 Check if an element exists in a list.\n",
    "l = [1,2,3,4,5,6,7,8,9,10]\n",
    "check_element = 10\n",
    "if check_element in l:\n",
    "    print(f\"{check_element} exists in the list.\")\n",
    "else:\n",
    "    print(f\"{check_element} does not exist in the list.\")"
   ]
  },
  {
   "cell_type": "code",
   "execution_count": 4,
   "id": "fc4cc08f-9557-47f4-a8dc-318124ef6138",
   "metadata": {},
   "outputs": [
    {
     "name": "stdout",
     "output_type": "stream",
     "text": [
      "The index of 8 is 7\n"
     ]
    }
   ],
   "source": [
    "#8 Find the index of the first occurrence of an element in a lis\n",
    "\n",
    "l = [1,2,3,4,5,6,7,8,9,10]\n",
    "element_to_find = 8\n",
    "index = l.index(element_to_find)\n",
    "print(f\"The index of {element_to_find} is {index}\")"
   ]
  },
  {
   "cell_type": "code",
   "execution_count": 5,
   "id": "b0a289a8-50b5-4ac2-8930-a4b5f9f69a58",
   "metadata": {},
   "outputs": [
    {
     "name": "stdout",
     "output_type": "stream",
     "text": [
      "The element 7 occurs 3 times in the list.\n"
     ]
    }
   ],
   "source": [
    "#9 Count the occurrences of an element in a list\n",
    "\n",
    "l = [1,2,3,4,5,6,7,8,9,10,2,4,7,1,5,7,2]\n",
    "element_occ_count = 7\n",
    "count = l.count(element_occ_count)\n",
    "print(f\"The element {element_occ_count} occurs {count} times in the list.\")"
   ]
  },
  {
   "cell_type": "code",
   "execution_count": 8,
   "id": "07385927-80d5-40a5-88a8-03db0328a41e",
   "metadata": {},
   "outputs": [
    {
     "name": "stdout",
     "output_type": "stream",
     "text": [
      "Reversed list: [100, 90, 80, 70, 60, 50, 40, 30, 20, 10]\n"
     ]
    }
   ],
   "source": [
    "#10  Reverse the order of elements in a list\n",
    "\n",
    "l = [10, 20, 30, 40, 50,60,70,80,90,100]\n",
    "l.reverse()\n",
    "print(\"Reversed list:\", l)"
   ]
  },
  {
   "cell_type": "code",
   "execution_count": 9,
   "id": "7de0609e-80af-4d5f-93aa-07753cf85bce",
   "metadata": {},
   "outputs": [
    {
     "name": "stdout",
     "output_type": "stream",
     "text": [
      "list in ascending order: [1, 2, 3, 4, 5, 6, 7, 8, 9, 10]\n"
     ]
    }
   ],
   "source": [
    "#11 Sort a list in ascending order\n",
    "\n",
    "l = [10,9,8,7,6,5,4,3,2,1]\n",
    "l.sort()\n",
    "print(\"list in ascending order:\", l)"
   ]
  },
  {
   "cell_type": "code",
   "execution_count": 10,
   "id": "fe813983-f6b2-453e-9056-87e7a5872dd2",
   "metadata": {},
   "outputs": [
    {
     "name": "stdout",
     "output_type": "stream",
     "text": [
      "list in descending order: [10, 9, 8, 7, 6, 5, 4, 3, 2, 1]\n"
     ]
    }
   ],
   "source": [
    "#12 Sort a list in descending order\n",
    "l = [1, 2, 3, 4, 5, 6, 7, 8, 9, 10]\n",
    "l.sort(reverse=True)\n",
    "print(\"list in descending order:\", l)"
   ]
  },
  {
   "cell_type": "code",
   "execution_count": 12,
   "id": "4fd41b6d-e646-48cb-935d-831a6d041ae7",
   "metadata": {},
   "outputs": [
    {
     "name": "stdout",
     "output_type": "stream",
     "text": [
      "List of even numbers: [2, 4, 6, 8, 10, 12, 14, 16, 18, 20]\n"
     ]
    }
   ],
   "source": [
    "#13 Create a list of even numbers from 1 to 20\n",
    "\n",
    "even_list = [i for i in range(2, 21, 2)]\n",
    "print(\"List of even numbers:\", even_list)"
   ]
  },
  {
   "cell_type": "code",
   "execution_count": 13,
   "id": "2b27eb11-e308-420d-893f-23dd12dc49f7",
   "metadata": {},
   "outputs": [
    {
     "name": "stdout",
     "output_type": "stream",
     "text": [
      "List of odd numbers: [1, 3, 5, 7, 9, 11, 13, 15, 17, 19]\n"
     ]
    }
   ],
   "source": [
    "#14  Create a list of odd numbers from 1 to 20\n",
    "odd_list = [i for i in range(1, 21, 2)]\n",
    "print(\"List of odd numbers:\", odd_list)"
   ]
  },
  {
   "cell_type": "code",
   "execution_count": 14,
   "id": "36b01e71-27e2-4075-a234-e2d659cb39bd",
   "metadata": {},
   "outputs": [
    {
     "name": "stdout",
     "output_type": "stream",
     "text": [
      "Sum of elements in list: 55\n"
     ]
    }
   ],
   "source": [
    "#15 Find the sum of all elements in a list\n",
    "\n",
    "l = [1,2,3,4,5,6,7,8,9,10]\n",
    "sum_l = sum(l)\n",
    "print(\"Sum of elements in list:\", sum_l)"
   ]
  },
  {
   "cell_type": "code",
   "execution_count": 16,
   "id": "d738bce8-5184-4272-be9e-8ebfb96dd228",
   "metadata": {},
   "outputs": [
    {
     "name": "stdout",
     "output_type": "stream",
     "text": [
      "Maximum value: 10\n"
     ]
    }
   ],
   "source": [
    "#16  Find the maximum value in a list\n",
    "\n",
    "l = [1,2,3,4,5,6,7,8,9,10]\n",
    "max_element = max(l)\n",
    "print(\"Maximum value:\", max_element)"
   ]
  },
  {
   "cell_type": "code",
   "execution_count": 17,
   "id": "d3256d3e-032c-4ce0-bbab-f92161ea89b9",
   "metadata": {},
   "outputs": [
    {
     "name": "stdout",
     "output_type": "stream",
     "text": [
      "Minimum value: 1\n"
     ]
    }
   ],
   "source": [
    "#17 Find the minimum value in a list\n",
    "l = [1,2,3,4,5,6,7,8,9,10]\n",
    "min_element = min(l)\n",
    "print(\"Minimum value:\", min_element)"
   ]
  },
  {
   "cell_type": "code",
   "execution_count": 18,
   "id": "5416f74e-97eb-45db-817b-0f0bd986e242",
   "metadata": {},
   "outputs": [
    {
     "name": "stdout",
     "output_type": "stream",
     "text": [
      "List of squares: [1, 4, 9, 16, 25, 36, 49, 64, 81, 100]\n"
     ]
    }
   ],
   "source": [
    "#18 Create a list of squares of numbers from 1 to 10\n",
    "square_list = [i ** 2 for i in range(1, 11)]\n",
    "print(\"List of squares:\", square_list)"
   ]
  },
  {
   "cell_type": "code",
   "execution_count": 20,
   "id": "9d53ca56-0d9e-4956-8fe0-9f2c79b56e60",
   "metadata": {},
   "outputs": [
    {
     "name": "stdout",
     "output_type": "stream",
     "text": [
      "List of random integers: [1, 62, 39, 98, 99, 83, 89, 63, 13, 95]\n"
     ]
    }
   ],
   "source": [
    "#19  Create a list of random numbers\n",
    "\n",
    "import random\n",
    "random_integers = [random.randint(1, 100) for _ in range(10)]\n",
    "print(\"List of random integers:\", random_integers)"
   ]
  },
  {
   "cell_type": "code",
   "execution_count": 25,
   "id": "45f72d4b-5840-4a4d-a16f-29a3b34e2549",
   "metadata": {},
   "outputs": [
    {
     "name": "stdout",
     "output_type": "stream",
     "text": [
      "List without duplicates: {40, 10, 50, 20, 30}\n"
     ]
    }
   ],
   "source": [
    "#20 Remove duplicates from a list.\n",
    "l = [10, 20, 30, 20, 40, 10, 50, 30]\n",
    "l2 = set(l)\n",
    "print(\"List without duplicates:\", l2)"
   ]
  },
  {
   "cell_type": "code",
   "execution_count": 42,
   "id": "36ac9024-7a37-43a4-a5dc-6a8e86760378",
   "metadata": {},
   "outputs": [
    {
     "data": {
      "text/plain": [
       "{2, 3}"
      ]
     },
     "execution_count": 42,
     "metadata": {},
     "output_type": "execute_result"
    }
   ],
   "source": [
    "#21 Find the common elements between two lists\n",
    "l1 = [3,2,4]\n",
    "l2 = [2,3,5]\n",
    "set(l1) & set(l2)"
   ]
  },
  {
   "cell_type": "code",
   "execution_count": 37,
   "id": "9ebde531-5373-4d3c-b057-b08bf422a4e8",
   "metadata": {},
   "outputs": [
    {
     "name": "stdout",
     "output_type": "stream",
     "text": [
      "{2, 3, 4}\n"
     ]
    },
    {
     "ename": "TypeError",
     "evalue": "'list' object is not callable",
     "output_type": "error",
     "traceback": [
      "\u001b[0;31m---------------------------------------------------------------------------\u001b[0m",
      "\u001b[0;31mTypeError\u001b[0m                                 Traceback (most recent call last)",
      "Cell \u001b[0;32mIn[37], line 8\u001b[0m\n\u001b[1;32m      5\u001b[0m l3 \u001b[38;5;241m=\u001b[39m \u001b[38;5;28mset\u001b[39m(l1) \u001b[38;5;129;01mor\u001b[39;00m \u001b[38;5;28mset\u001b[39m(l2)\n\u001b[1;32m      6\u001b[0m \u001b[38;5;28mprint\u001b[39m(l3)\n\u001b[0;32m----> 8\u001b[0m s \u001b[38;5;241m=\u001b[39m \u001b[38;5;28;43mlist\u001b[39;49m\u001b[43m(\u001b[49m\u001b[43ml3\u001b[49m\u001b[43m)\u001b[49m\n\u001b[1;32m      9\u001b[0m \u001b[38;5;28mprint\u001b[39m(\u001b[38;5;28mtype\u001b[39m(s))\n",
      "\u001b[0;31mTypeError\u001b[0m: 'list' object is not callable"
     ]
    }
   ],
   "source": [
    "#22 Find the difference between two lists.\n",
    "list1 = [10, 20, 30, 40, 50]\n",
    "list2 = [30, 40, 50, 60, 70]\n",
    "\n",
    "difference = list(set(list1).difference(list2))\n",
    "\n",
    "print(\"Difference between lists:\", difference)"
   ]
  },
  {
   "cell_type": "code",
   "execution_count": 45,
   "id": "6f8a7573-e735-4a8a-a0ab-370cb5d58c5f",
   "metadata": {},
   "outputs": [
    {
     "name": "stdout",
     "output_type": "stream",
     "text": [
      "Difference between lists: {20, 10}\n"
     ]
    }
   ],
   "source": [
    "#22 Find the difference between two lists.\n",
    "list1 = [10, 20, 30, 40, 50]\n",
    "list2 = [30, 40, 50, ]\n",
    "\n",
    "difference = (set(list1).difference(list2))\n",
    "\n",
    "print(\"Difference between lists:\", difference)"
   ]
  },
  {
   "cell_type": "code",
   "execution_count": 46,
   "id": "c5e43a31-e804-44c6-a403-29ca2c5e7898",
   "metadata": {},
   "outputs": [
    {
     "name": "stdout",
     "output_type": "stream",
     "text": [
      "Merged list: [10, 20, 30, 40, 50, 60, 70, 80, 90, 100]\n"
     ]
    }
   ],
   "source": [
    "#23 Merge two lists.\n",
    "\n",
    "l1 = [10, 20, 30,40 ,50]\n",
    "l2 = [ 60,70,80,90,100]\n",
    "merged_list = l1 + l2\n",
    "print(\"Merged list:\", merged_list)"
   ]
  },
  {
   "cell_type": "code",
   "execution_count": 49,
   "id": "a177d46a-59f6-4cc7-a689-221a531fb89e",
   "metadata": {},
   "outputs": [
    {
     "name": "stdout",
     "output_type": "stream",
     "text": [
      "Multiplied list: [20, 40, 60, 80, 100]\n"
     ]
    }
   ],
   "source": [
    "#24 Multiply all elements in a list by 2.\n",
    "\n",
    "l = [10, 20, 30, 40, 50]\n",
    "multiplied_list = [x * 2 for x in l]\n",
    "print(\"Multiplied list:\", multiplied_list)"
   ]
  },
  {
   "cell_type": "code",
   "execution_count": 50,
   "id": "27f8bba1-3c61-4942-a2d0-b49b6fd06e87",
   "metadata": {},
   "outputs": [
    {
     "name": "stdout",
     "output_type": "stream",
     "text": [
      "[2, 4]\n"
     ]
    }
   ],
   "source": [
    "#25 Filter out all even numbers from a list.\n",
    "l = [1, 2, 3, 4, 5]\n",
    " \n",
    "l2 = []\n",
    " \n",
    "for num in l:\n",
    "    if num % 2 == 0:\n",
    "        l2.append(num)\n",
    "print(l2)"
   ]
  },
  {
   "cell_type": "code",
   "execution_count": 51,
   "id": "b2cd13c0-9c00-4a06-adf6-2ca170161f74",
   "metadata": {},
   "outputs": [
    {
     "name": "stdout",
     "output_type": "stream",
     "text": [
      "List of integers: [10, 20, 30, 40, 50]\n"
     ]
    }
   ],
   "source": [
    "#26 Convert a list of strings to a list of integers\n",
    "str_list = [\"10\", \"20\", \"30\", \"40\", \"50\"]\n",
    "integer_list = [int(x) for x in str_list]\n",
    "print(\"List of integers:\", integer_list)"
   ]
  },
  {
   "cell_type": "code",
   "execution_count": 52,
   "id": "37718b97-b5b6-4a80-8823-7623f0c09d38",
   "metadata": {},
   "outputs": [
    {
     "name": "stdout",
     "output_type": "stream",
     "text": [
      "List of strings: ['10', '20', '30', '40', '50']\n"
     ]
    }
   ],
   "source": [
    "#27 Convert a list of integers to a list of strings.\n",
    "integer_list = [10, 20, 30, 40, 50]\n",
    "str_list = [str(x) for x in integer_list]\n",
    "print(\"List of strings:\", str_list)\n",
    "\n"
   ]
  },
  {
   "cell_type": "code",
   "execution_count": 54,
   "id": "acdf4504-2373-49e9-9b8d-a1d6936b41ce",
   "metadata": {},
   "outputs": [
    {
     "ename": "TypeError",
     "evalue": "isinstance() arg 2 must be a type, a tuple of types, or a union",
     "output_type": "error",
     "traceback": [
      "\u001b[0;31m---------------------------------------------------------------------------\u001b[0m",
      "\u001b[0;31mTypeError\u001b[0m                                 Traceback (most recent call last)",
      "Cell \u001b[0;32mIn[54], line 11\u001b[0m\n\u001b[1;32m      9\u001b[0m             flattened\u001b[38;5;241m.\u001b[39mappend(sublist)\n\u001b[1;32m     10\u001b[0m     \u001b[38;5;28;01mreturn\u001b[39;00m flattened\n\u001b[0;32m---> 11\u001b[0m flattened_list \u001b[38;5;241m=\u001b[39m \u001b[43mflatten_list\u001b[49m\u001b[43m(\u001b[49m\u001b[43mnested_list\u001b[49m\u001b[43m)\u001b[49m\n\u001b[1;32m     12\u001b[0m \u001b[38;5;28mprint\u001b[39m(\u001b[38;5;124m\"\u001b[39m\u001b[38;5;124mFlattened list:\u001b[39m\u001b[38;5;124m\"\u001b[39m, flattened_list)\n",
      "Cell \u001b[0;32mIn[54], line 6\u001b[0m, in \u001b[0;36mflatten_list\u001b[0;34m(nested)\u001b[0m\n\u001b[1;32m      4\u001b[0m flattened \u001b[38;5;241m=\u001b[39m []\n\u001b[1;32m      5\u001b[0m \u001b[38;5;28;01mfor\u001b[39;00m sublist \u001b[38;5;129;01min\u001b[39;00m nested:\n\u001b[0;32m----> 6\u001b[0m     \u001b[38;5;28;01mif\u001b[39;00m \u001b[38;5;28;43misinstance\u001b[39;49m\u001b[43m(\u001b[49m\u001b[43msublist\u001b[49m\u001b[43m,\u001b[49m\u001b[43m \u001b[49m\u001b[38;5;28;43mlist\u001b[39;49m\u001b[43m)\u001b[49m:\n\u001b[1;32m      7\u001b[0m         flattened\u001b[38;5;241m.\u001b[39mextend(flatten_list(sublist))\n\u001b[1;32m      8\u001b[0m     \u001b[38;5;28;01melse\u001b[39;00m:\n",
      "\u001b[0;31mTypeError\u001b[0m: isinstance() arg 2 must be a type, a tuple of types, or a union"
     ]
    }
   ],
   "source": [
    "#28  Flatten a nested list\n",
    "nested_list = [[1, 2, 3], [4, 5], [6, 7, 8, 9]]\n",
    "def flatten_list(nested):\n",
    "    flattened = []\n",
    "    for sublist in nested:\n",
    "        if isinstance(sublist, list):\n",
    "            flattened.extend(flatten_list(sublist))\n",
    "        else:\n",
    "            flattened.append(sublist)\n",
    "    return flattened\n",
    "flattened_list = flatten_list(nested_list)\n",
    "print(\"Flattened list:\", flattened_list)"
   ]
  },
  {
   "cell_type": "code",
   "execution_count": 57,
   "id": "b1f14872-94f5-46cb-b2cc-1886608a4a31",
   "metadata": {},
   "outputs": [
    {
     "name": "stdout",
     "output_type": "stream",
     "text": [
      "First 10 Fibonacci numbers: [0, 1]\n"
     ]
    }
   ],
   "source": [
    "#29 Create a list of the first 10 Fibonacci numbers.\n",
    "def generate_fibonacci(n):\n",
    "    fibonacci_list = [0, 1]  \n",
    "\n",
    "    for i in range(2, n):\n",
    "        next_fibonacci = fibonacci_list[i - 1] + fibonacci_list[i - 2]\n",
    "        fibonacci_list.append(next_fibonacci)\n",
    "\n",
    "    return fibonacci_list\n",
    "fibonacci_numbers = generate_fibonacci(2)\n",
    "print(\"First 10 Fibonacci numbers:\", fibonacci_numbers)"
   ]
  },
  {
   "cell_type": "code",
   "execution_count": 59,
   "id": "4854a4c9-35cf-4b35-87ec-4ac6344e6542",
   "metadata": {},
   "outputs": [
    {
     "name": "stdout",
     "output_type": "stream",
     "text": [
      "The list is sorted in ascending order.\n"
     ]
    }
   ],
   "source": [
    "#30 Check if a list is sorted.\n",
    "\n",
    "def is_sorted_ascending(lst):\n",
    "    for i in range(1, len(lst)):\n",
    "        if lst[i] < lst[i - 1]:\n",
    "            return False\n",
    "    return True\n",
    "ascending_list = [10, 20, 30, 40, 50]\n",
    "\n",
    "if is_sorted_ascending(ascending_list):\n",
    "    print(\"The list is sorted in ascending order.\")\n",
    "else:\n",
    "    print(\"The list is not sorted in ascending order.\")"
   ]
  },
  {
   "cell_type": "code",
   "execution_count": 60,
   "id": "434c2949-5c97-4649-9593-ef29f3658929",
   "metadata": {},
   "outputs": [
    {
     "name": "stdout",
     "output_type": "stream",
     "text": [
      "Rotated list: [3, 4, 5, 6, 1, 2]\n"
     ]
    }
   ],
   "source": [
    "#31 Rotate a list to the left by n positions.\n",
    "\n",
    "def rotate_left(lst, n):\n",
    "    n = n % len(lst)  # Normalize n to handle cases where n is larger than the list length\n",
    "    # print(n)\n",
    "    rotated = lst[n:] + lst[:n]\n",
    "    return rotated\n",
    "\n",
    "my_list = [1, 2, 3, 4, 5, 6]\n",
    "\n",
    "\n",
    "n = 2\n",
    "rotated_list = rotate_left(my_list, n)\n",
    "print(\"Rotated list:\", rotated_list)"
   ]
  },
  {
   "cell_type": "code",
   "execution_count": 61,
   "id": "ab5a170e-a436-4017-af8c-5d5e7626de8a",
   "metadata": {},
   "outputs": [
    {
     "name": "stdout",
     "output_type": "stream",
     "text": [
      "Rotated list: [5, 6, 1, 2, 3, 4]\n"
     ]
    }
   ],
   "source": [
    "#32 Rotate a list to the right by n positions.\n",
    "\n",
    "def rotate_right(lst, n):\n",
    "    n = n % len(lst)  \n",
    "    # print(n)\n",
    "    rotated = lst[-n:] + lst[:-n]\n",
    "    return rotated\n",
    "\n",
    "my_list = [1, 2, 3, 4, 5, 6]\n",
    "\n",
    "n = 2\n",
    "rotated_list = rotate_right(my_list, n)\n",
    "\n",
    "print(\"Rotated list:\", rotated_list)"
   ]
  },
  {
   "cell_type": "code",
   "execution_count": 62,
   "id": "80121ee9-2f43-48af-8ef7-55ea36a4c4a2",
   "metadata": {},
   "outputs": [
    {
     "name": "stdout",
     "output_type": "stream",
     "text": [
      "5 25\n",
      "5 29\n",
      "List of prime numbers up to 50: [2, 3, 5, 7, 11, 13, 17, 19, 23, 29]\n"
     ]
    }
   ],
   "source": [
    "#33 Create a list of prime numbers up to 50.\n",
    "\n",
    "def is_prime(num):\n",
    "    if num <= 1:\n",
    "        return False\n",
    "    if num <= 3:\n",
    "        return True\n",
    "    if num % 2 == 0 or num % 3 == 0:\n",
    "        return False\n",
    "    i = 5\n",
    "    while i * i <= num:\n",
    "      print(i,num)\n",
    "      if num % i == 0 or num % (i + 2) == 0:\n",
    "          return False\n",
    "      i += 6\n",
    "    return True\n",
    "\n",
    "\n",
    "prime_numbers = [num for num in range(2,30) if is_prime(num)]\n",
    "\n",
    "\n",
    "print(\"List of prime numbers up to 50:\", prime_numbers)"
   ]
  },
  {
   "cell_type": "code",
   "execution_count": 63,
   "id": "f5e33a07-42d0-438c-a0c3-7a044f53817a",
   "metadata": {},
   "outputs": [
    {
     "name": "stdout",
     "output_type": "stream",
     "text": [
      "List of prime numbers up to 50: [2, 3, 5, 7, 11, 13, 17, 19, 23, 29, 31, 37, 41, 43, 47]\n"
     ]
    }
   ],
   "source": [
    "#34. Split a list into chunks of size n\n",
    "\n",
    "def sieve_of_eratosthenes(limit):\n",
    "    primes = []\n",
    "    is_prime = [True] * (limit + 1)\n",
    "    is_prime[0] = is_prime[1] = False\n",
    "\n",
    "    for num in range(2, int(limit ** 0.5) + 1):\n",
    "        if is_prime[num]:\n",
    "            primes.append(num)\n",
    "            for multiple in range(num * num, limit + 1, num):\n",
    "                is_prime[multiple] = False\n",
    "\n",
    "    for num in range(int(limit ** 0.5) + 1, limit + 1):\n",
    "        if is_prime[num]:\n",
    "            primes.append(num)\n",
    "\n",
    "    return primes\n",
    "\n",
    "prime_numbers = sieve_of_eratosthenes(50)\n",
    "print(\"List of prime numbers up to 50:\", prime_numbers)"
   ]
  },
  {
   "cell_type": "code",
   "execution_count": 64,
   "id": "ea2ec5f4-51a3-4853-b1ed-89fb5f186773",
   "metadata": {},
   "outputs": [
    {
     "name": "stdout",
     "output_type": "stream",
     "text": [
      "Second largest number: 25\n"
     ]
    }
   ],
   "source": [
    "#35  Find the second largest number in a list.\n",
    "\n",
    "my_list = [10, 5, 20, 15, 30, 25]\n",
    "\n",
    "sorted_list = sorted(set(my_list))\n",
    "\n",
    "if len(sorted_list) >= 2:\n",
    "    second_largest = sorted_list[-2]\n",
    "    print(\"Second largest number:\", second_largest)\n",
    "else:\n",
    "    print(\"The list does not contain enough elements.\")"
   ]
  },
  {
   "cell_type": "code",
   "execution_count": 65,
   "id": "37d26c42-d0c6-4fe6-8eeb-e6f6a1eaea71",
   "metadata": {},
   "outputs": [
    {
     "name": "stdout",
     "output_type": "stream",
     "text": [
      "Squared list: [4, 16, 36, 64, 100]\n"
     ]
    }
   ],
   "source": [
    "#36 . Replace every element in a list with its square.\n",
    "\n",
    "my_list = [2, 4, 6, 8, 10]\n",
    "squared_list = [x ** 2 for x in my_list]\n",
    "print(\"Squared list:\", squared_list)"
   ]
  },
  {
   "cell_type": "code",
   "execution_count": 66,
   "id": "c89acda7-09e1-4d00-ab25-b79ac6fb2ea2",
   "metadata": {},
   "outputs": [
    {
     "name": "stdout",
     "output_type": "stream",
     "text": [
      "Converted dictionary: {'apple': 0, 'banana': 1, 'cherry': 2, 'date': 3, 'elderberry': 4}\n"
     ]
    }
   ],
   "source": [
    "#37 Convert a list to a dictionary where list elements become keys and their indices become values.\n",
    "\n",
    "my_list = ['apple', 'banana', 'cherry', 'date', 'elderberry']\n",
    "my_dict = {element: index for index, element in enumerate(my_list)}\n",
    "print(\"Converted dictionary:\", my_dict)"
   ]
  },
  {
   "cell_type": "code",
   "execution_count": 67,
   "id": "10a34591-002c-4d46-8ec6-98621fb845ff",
   "metadata": {},
   "outputs": [
    {
     "name": "stdout",
     "output_type": "stream",
     "text": [
      "Shuffled list: [2, 3, 6, 4, 7, 8, 10, 1, 5, 9]\n"
     ]
    }
   ],
   "source": [
    "#38 Shuffle the elements of a list randomly\n",
    "\n",
    "import random\n",
    "my_list = [1, 2, 3, 4, 5, 6, 7, 8, 9, 10]\n",
    "random.shuffle(my_list)\n",
    "print(\"Shuffled list:\", my_list)"
   ]
  },
  {
   "cell_type": "code",
   "execution_count": 68,
   "id": "1152f692-b892-48a4-94df-fdd197b55733",
   "metadata": {},
   "outputs": [
    {
     "name": "stdout",
     "output_type": "stream",
     "text": [
      "List of the first 10 factorial numbers: [1, 1, 2, 6, 24, 120, 720, 5040, 40320, 362880]\n"
     ]
    }
   ],
   "source": [
    "#39 Create a list of the first 10 factorial numbers\n",
    "\n",
    "def factorial(n):\n",
    "    if n == 0 or n == 1:\n",
    "        return 1\n",
    "    else:\n",
    "        return n * factorial(n - 1)\n",
    "\n",
    "factorial_numbers = [factorial(i) for i in range(10)]\n",
    "print(\"List of the first 10 factorial numbers:\", factorial_numbers)"
   ]
  },
  {
   "cell_type": "code",
   "execution_count": 69,
   "id": "c1c344ca-ddaa-4392-8a34-cffeb7a5f567",
   "metadata": {},
   "outputs": [
    {
     "name": "stdout",
     "output_type": "stream",
     "text": [
      "The lists have at least one common element.\n"
     ]
    }
   ],
   "source": [
    "#40 Check if two lists have at least one element in common.\n",
    "\n",
    "def has_common_element(list1, list2):\n",
    "    for item in list1:\n",
    "        if item in list2:\n",
    "            return True\n",
    "    return False\n",
    "list1 = [1, 2, 3, 4, 5]\n",
    "list2 = [4, 5, 6, 7, 8]\n",
    "if has_common_element(list1, list2):\n",
    "    print(\"The lists have at least one common element.\")\n",
    "else:\n",
    "    print(\"The lists do not have any common elements.\")"
   ]
  },
  {
   "cell_type": "code",
   "execution_count": 70,
   "id": "476b60c4-43a0-4049-a5d8-0edc3f6b439a",
   "metadata": {},
   "outputs": [
    {
     "name": "stdout",
     "output_type": "stream",
     "text": [
      "Empty list: []\n"
     ]
    }
   ],
   "source": [
    "#41  Remove all elements from a list\n",
    "\n",
    "my_list = [1, 2, 3, 4, 5]\n",
    "my_list.clear()\n",
    "print(\"Empty list:\", my_list)"
   ]
  },
  {
   "cell_type": "code",
   "execution_count": 72,
   "id": "85f68a63-bd8f-4f31-941a-44b8c02dce9a",
   "metadata": {},
   "outputs": [
    {
     "name": "stdout",
     "output_type": "stream",
     "text": [
      "List after replacing negative numbers with 0: [10, 0, 20, 0, 30, 0]\n"
     ]
    }
   ],
   "source": [
    "#42  Replace negative numbers in a list with 0\n",
    "\n",
    "my_list = [10, -5, 20, -15, 30, -25]\n",
    "for i in range(len(my_list)):\n",
    "    if my_list[i] < 0:\n",
    "        my_list[i] = 0\n",
    "\n",
    "print(\"List after replacing negative numbers with 0:\", my_list)"
   ]
  },
  {
   "cell_type": "code",
   "execution_count": 73,
   "id": "32f830c2-e06b-4416-a0ef-b562fcaa4049",
   "metadata": {},
   "outputs": [
    {
     "name": "stdout",
     "output_type": "stream",
     "text": [
      "List of words: ['Hello,', 'this', 'is', 'a', 'sample', 'sentence.']\n"
     ]
    }
   ],
   "source": [
    "#43 Convert a string into a list of words.\n",
    "\n",
    "my_string = \"Hello, this is a sample sentence.\"\n",
    "word_list = my_string.split()\n",
    "print(\"List of words:\", word_list)"
   ]
  },
  {
   "cell_type": "code",
   "execution_count": 75,
   "id": "70835362-8ecd-4632-826b-8b5fb01bb2f7",
   "metadata": {},
   "outputs": [
    {
     "name": "stdout",
     "output_type": "stream",
     "text": [
      "Converted string: Hello, this is a sample sentence.\n"
     ]
    }
   ],
   "source": [
    "#44 Convert a list of words into a string\n",
    "\n",
    "word_list = [\"Hello,\", \"this\", \"is\", \"a\", \"sample\", \"sentence.\"]\n",
    "my_string = \" \".join(word_list)\n",
    "print(\"Converted string:\", my_string)"
   ]
  },
  {
   "cell_type": "code",
   "execution_count": 76,
   "id": "9a568458-e2bc-49e3-80f0-63cb31b68906",
   "metadata": {},
   "outputs": [
    {
     "name": "stdout",
     "output_type": "stream",
     "text": [
      "List of the first 5 powers of 2: [1, 2, 4, 8, 16]\n"
     ]
    }
   ],
   "source": [
    "#45 . Create a list of the first n powers of 2\n",
    "n = 5\n",
    "power_list = [2 ** i for i in range(n)]\n",
    "print(\"List of the first\", n, \"powers of 2:\", power_list)"
   ]
  },
  {
   "cell_type": "code",
   "execution_count": 77,
   "id": "8cb1a2ef-e948-432a-a2d7-96ec83e39b40",
   "metadata": {},
   "outputs": [
    {
     "name": "stdout",
     "output_type": "stream",
     "text": [
      "Longest string: elderberry\n"
     ]
    }
   ],
   "source": [
    "#46 Find the longest string in a list of strings\n",
    "\n",
    "string_list = [\"apple\", \"banana\", \"cherry\", \"date\", \"elderberry\"]\n",
    "longest_string = \"\"\n",
    "for s in string_list:\n",
    "    if len(s) > len(longest_string):\n",
    "        longest_string = s\n",
    "\n",
    "print(\"Longest string:\", longest_string)"
   ]
  },
  {
   "cell_type": "code",
   "execution_count": 78,
   "id": "bdec6e93-5573-4edd-a213-adc63880aee4",
   "metadata": {},
   "outputs": [
    {
     "name": "stdout",
     "output_type": "stream",
     "text": [
      "Shortest string: date\n"
     ]
    }
   ],
   "source": [
    "#47 Find the shortest string in a list of strings\n",
    "\n",
    "string_list = [\"apple\", \"banana\", \"cherry\", \"date\", \"elderberry\"]\n",
    "shortest_string = string_list[0]  # Initialize with the first string\n",
    "for s in string_list:\n",
    "    if len(s) < len(shortest_string):\n",
    "        shortest_string = s\n",
    "print(\"Shortest string:\", shortest_string)"
   ]
  },
  {
   "cell_type": "code",
   "execution_count": 79,
   "id": "c304c22f-e6e7-45b2-a4c4-c187c4e6526b",
   "metadata": {},
   "outputs": [
    {
     "name": "stdout",
     "output_type": "stream",
     "text": [
      "List of the first 5 triangular numbers: [1, 3, 6, 10, 15]\n"
     ]
    }
   ],
   "source": [
    "#48 Create a list of the first n triangular numbers\n",
    "\n",
    "def triangular_numbers(n):\n",
    "    return [i * (i + 1) // 2 for i in range(1, n + 1)]\n",
    "\n",
    "n = 5\n",
    "triangular_list = triangular_numbers(n)\n",
    "print(\"List of the first\", n, \"triangular numbers:\", triangular_list)"
   ]
  },
  {
   "cell_type": "code",
   "execution_count": 80,
   "id": "2cee5c66-ba80-4f32-a462-5ad8a50fae6b",
   "metadata": {},
   "outputs": [
    {
     "name": "stdout",
     "output_type": "stream",
     "text": [
      "Main list contains the subsequence.\n"
     ]
    }
   ],
   "source": [
    "#49 Check if a list contains another list as a subsequence\n",
    "\n",
    "def is_subsequence(subsequence, main_list):\n",
    "    subseq_index = 0  \n",
    "    for element in main_list:\n",
    "        if element == subsequence[subseq_index]:\n",
    "            subseq_index += 1\n",
    "            if subseq_index == len(subsequence):\n",
    "                return True\n",
    "    return False\n",
    "\n",
    "main_list = [1, 2, 3, 4, 5, 6, 7, 8, 9, 10]\n",
    "subsequence = [3, 5, 8]\n",
    "\n",
    "if is_subsequence(subsequence, main_list):\n",
    "    print(\"Main list contains the subsequence.\")\n",
    "else:\n",
    "    print(\"Main list does not contain the subsequence.\")"
   ]
  },
  {
   "cell_type": "code",
   "execution_count": 81,
   "id": "fdedaff5-c593-425a-857a-799ce26a9f04",
   "metadata": {},
   "outputs": [
    {
     "name": "stdout",
     "output_type": "stream",
     "text": [
      "List after swapping elements: [1, 4, 3, 2, 5]\n"
     ]
    }
   ],
   "source": [
    "#50  Swap two elements in a list by their indices.\n",
    "\n",
    "my_list = [1, 2, 3, 4, 5]\n",
    "\n",
    "index1 = 1\n",
    "index2 = 3\n",
    "\n",
    "temp = my_list[index1]\n",
    "my_list[index1] = my_list[index2]\n",
    "my_list[index2] = temp\n",
    "\n",
    "print(\"List after swapping elements:\", my_list)"
   ]
  },
  {
   "cell_type": "code",
   "execution_count": 6,
   "id": "e32aecd2-357d-40f0-bb26-17c811ba358e",
   "metadata": {},
   "outputs": [
    {
     "name": "stdout",
     "output_type": "stream",
     "text": [
      "The tuple is: (1, 2, 3, 4, 5)\n"
     ]
    }
   ],
   "source": [
    "#tuple 1. Create a tuple with integers from 1 to 5\n",
    "t1 = tuple(range(1,6,1))\n",
    "print(\"The tuple is:\", t1)"
   ]
  },
  {
   "cell_type": "code",
   "execution_count": 7,
   "id": "5a003028-37fe-4ae3-b036-41472e1e6905",
   "metadata": {},
   "outputs": [
    {
     "data": {
      "text/plain": [
       "tuple"
      ]
     },
     "execution_count": 7,
     "metadata": {},
     "output_type": "execute_result"
    }
   ],
   "source": [
    "type(t1)"
   ]
  },
  {
   "cell_type": "code",
   "execution_count": 9,
   "id": "5e19f135-2fc8-42b6-92af-6b45e7779918",
   "metadata": {},
   "outputs": [
    {
     "name": "stdout",
     "output_type": "stream",
     "text": [
      "The third element is: 3\n"
     ]
    }
   ],
   "source": [
    "#2  Access the third element of a tuple\n",
    "t1 = (1,2,3,4,5)\n",
    "access_element = t1[2]\n",
    "print(\"The third element is:\", access_element)"
   ]
  },
  {
   "cell_type": "code",
   "execution_count": 11,
   "id": "c5bf4dcf-0e95-4daa-bd67-c3dc9cff4852",
   "metadata": {},
   "outputs": [
    {
     "name": "stdout",
     "output_type": "stream",
     "text": [
      "length of the tuple is: 5\n"
     ]
    }
   ],
   "source": [
    "#3  Find the length of a tuple without using the len() function\n",
    "t1 = (1,2,3,4,5)\n",
    "count = 0\n",
    "for i in t1:\n",
    "    count += 1\n",
    "print(\"length of the tuple is:\", count)\n"
   ]
  },
  {
   "cell_type": "code",
   "execution_count": 15,
   "id": "d27acc34-0fa2-462a-b67c-95af09ba5cd4",
   "metadata": {},
   "outputs": [
    {
     "name": "stdout",
     "output_type": "stream",
     "text": [
      "(1, 2, 1, 2, 3, 4, 1, 2, 3)\n"
     ]
    },
    {
     "name": "stdin",
     "output_type": "stream",
     "text": [
      "enter a element from above tuple 2\n"
     ]
    },
    {
     "name": "stdout",
     "output_type": "stream",
     "text": [
      "The element 2 appears 3 times in the tuple.\n"
     ]
    }
   ],
   "source": [
    "#4 Count the occurrences of an element in a tuple\n",
    "\n",
    "t1 = (1,2,1,2,3,4,1,2,3)\n",
    "print(t1)\n",
    "element_to_count = int(input(\"enter a element from above tuple\"))\n",
    "count = 0\n",
    "for item in t1:\n",
    "    if item == element_to_count:\n",
    "        count += 1\n",
    "print(f\"The element {element_to_count} appears {count} times in the tuple.\")"
   ]
  },
  {
   "cell_type": "code",
   "execution_count": 1,
   "id": "313843bb-576a-4524-8836-9c3bf0e4c72d",
   "metadata": {},
   "outputs": [
    {
     "name": "stdout",
     "output_type": "stream",
     "text": [
      "The first occurrence of 20 is at index 1.\n"
     ]
    }
   ],
   "source": [
    "#5 Find the index of the first occurrence of an element in a tuple.\n",
    "t1 = (10, 20, 30, 20, 40, 50)\n",
    "element_to_find = 20\n",
    "index = -1  \n",
    "for i, item in enumerate(t1):\n",
    "    if item == element_to_find:\n",
    "        index = i\n",
    "        break\n",
    "if index != -1:\n",
    "    print(f\"The first occurrence of {element_to_find} is at index {index}.\")\n",
    "else:\n",
    "    print(f\"{element_to_find} is not found in the tuple.\")"
   ]
  },
  {
   "cell_type": "code",
   "execution_count": 2,
   "id": "cbaee5f6-9de3-4f6f-b8ae-8632fff015c4",
   "metadata": {},
   "outputs": [
    {
     "name": "stdout",
     "output_type": "stream",
     "text": [
      "7 exists in the tuple.\n"
     ]
    }
   ],
   "source": [
    "#6 Check if an element exists in a tuple\n",
    "t1=(1,2,3,4,5,6,7,8)\n",
    "element_to_check = 7\n",
    "if element_to_check in t1:\n",
    "    print(f\"{element_to_check} exists in the tuple.\")\n",
    "else:\n",
    "    print(f\"{element_to_check} does not exist in the tuple.\")"
   ]
  },
  {
   "cell_type": "code",
   "execution_count": 3,
   "id": "b6ff9e6f-6fe7-4969-8ab2-bb3b386d45d7",
   "metadata": {},
   "outputs": [
    {
     "name": "stdout",
     "output_type": "stream",
     "text": [
      "Tuple: (1, 2, 3, 4, 5, 6, 7, 8)\n",
      "List: [1, 2, 3, 4, 5, 6, 7, 8]\n"
     ]
    }
   ],
   "source": [
    "#7 Convert a tuple to a list.\n",
    "\n",
    "t1=(1,2,3,4,5,6,7,8)\n",
    "t_list = list(t1)\n",
    "print(\"Tuple:\", t1)\n",
    "print(\"List:\",t_list)"
   ]
  },
  {
   "cell_type": "code",
   "execution_count": 4,
   "id": "f132b7ca-72c7-4a07-835d-80796e1d9453",
   "metadata": {},
   "outputs": [
    {
     "name": "stdout",
     "output_type": "stream",
     "text": [
      "List: [1, 2, 3, 4, 5, 6, 7, 8]\n",
      "Tuple: (1, 2, 3, 4, 5, 6, 7, 8)\n"
     ]
    }
   ],
   "source": [
    "#8 Convert a list to a tuple.\n",
    "\n",
    "l1=[1,2,3,4,5,6,7,8]\n",
    "l_tuple = tuple(l1)\n",
    "print(\"List:\",l1)\n",
    "print(\"Tuple:\", l_tuple)"
   ]
  },
  {
   "cell_type": "code",
   "execution_count": 6,
   "id": "bf409eb6-f6f1-4e9c-b633-6d26d8e8bfcf",
   "metadata": {},
   "outputs": [
    {
     "name": "stdout",
     "output_type": "stream",
     "text": [
      "var1: 11\n",
      "var2: 22\n",
      "var3: 33\n"
     ]
    }
   ],
   "source": [
    "#9 Unpack the elements of a tuple into variables.\n",
    "t1 = (11, 22, 33)\n",
    "var1, var2, var3 = t1\n",
    "print(\"var1:\", var1)\n",
    "print(\"var2:\", var2)\n",
    "print(\"var3:\", var3)"
   ]
  },
  {
   "cell_type": "code",
   "execution_count": 7,
   "id": "cc5c8aee-b486-415b-ac56-5bd1d9ab4922",
   "metadata": {},
   "outputs": [
    {
     "name": "stdout",
     "output_type": "stream",
     "text": [
      "Tuple of even numbers: (2, 4, 6, 8, 10)\n"
     ]
    }
   ],
   "source": [
    "#10 Create a tuple of even numbers from 1 to 10.\n",
    "l = [num for num in range(2, 11, 2)]  #list comp creating list\n",
    "even_tuple = tuple(l) #converting list to tuple\n",
    "print(\"Tuple of even numbers:\", even_tuple)"
   ]
  },
  {
   "cell_type": "code",
   "execution_count": 8,
   "id": "1592df75-b4cd-4108-ab18-90d17dcc5fb1",
   "metadata": {},
   "outputs": [
    {
     "name": "stdout",
     "output_type": "stream",
     "text": [
      "Tuple of even numbers: (1, 3, 5, 7, 9)\n"
     ]
    }
   ],
   "source": [
    "#11 Create a tuple of odd numbers from 1 to 10.\n",
    "l = [num for num in range(1, 10, 2)]  #creating list by lsit comp\n",
    "even_tuple = tuple(l) #converting list to tuple\n",
    "print(\"Tuple of even numbers:\", even_tuple)\n"
   ]
  },
  {
   "cell_type": "code",
   "execution_count": 10,
   "id": "4db60f47-1bb5-4e82-8501-951db9d9413f",
   "metadata": {},
   "outputs": [
    {
     "name": "stdout",
     "output_type": "stream",
     "text": [
      "(1, 2, 3, 4, 5)\n",
      "(6, 7, 8, 9, 10)\n",
      "concatenated tuple: (1, 2, 3, 4, 5, 6, 7, 8, 9, 10)\n"
     ]
    }
   ],
   "source": [
    "#12  Concatenate two tuples.\n",
    "t1 = (1, 2, 3,4,5)\n",
    "t2 = (6,7,8,9,10)\n",
    "con_t = t1 + t2\n",
    "print(t1)\n",
    "print(t2)\n",
    "print(\"concatenated tuple:\",con_t)"
   ]
  },
  {
   "cell_type": "code",
   "execution_count": 11,
   "id": "0d28359e-455f-4937-8d8d-001bd3151521",
   "metadata": {},
   "outputs": [
    {
     "name": "stdout",
     "output_type": "stream",
     "text": [
      "Repeated tuple: (1, 2, 3, 1, 2, 3, 1, 2, 3)\n"
     ]
    }
   ],
   "source": [
    "#13 Repeat a tuple three times.\n",
    "t1 = (1, 2, 3)\n",
    "rep_tuple= t1 * 3\n",
    "print(\"Repeated tuple:\", rep_tuple)"
   ]
  },
  {
   "cell_type": "code",
   "execution_count": 12,
   "id": "0377613f-1b5b-4ea7-94ad-92f60e784dcd",
   "metadata": {},
   "outputs": [
    {
     "name": "stdout",
     "output_type": "stream",
     "text": [
      "The empty_tuple is empty.\n",
      "The non_empty_tuple is not empty.\n"
     ]
    }
   ],
   "source": [
    "#14 Check if a tuple is empty\n",
    "t1 = ()\n",
    "t2 = (1, 2, 3)\n",
    "if not t1:\n",
    "    print(\"The empty_tuple is empty.\")\n",
    "else:\n",
    "    print(\"The empty_tuple is not empty.\")\n",
    "\n",
    "if not t2:\n",
    "    print(\"The non_empty_tuple is empty.\")\n",
    "else:\n",
    "    print(\"The non_empty_tuple is not empty.\")"
   ]
  },
  {
   "cell_type": "code",
   "execution_count": 14,
   "id": "b698b971-6195-4c7d-aa0c-dd5332c4922f",
   "metadata": {},
   "outputs": [
    {
     "name": "stdout",
     "output_type": "stream",
     "text": [
      "Nested tuple: ((1, 2, 3), ('shakti', 'rajbhar', 'rahul'), (True, False))\n"
     ]
    }
   ],
   "source": [
    "#15 Create a nested tuple.\n",
    "nested_t= ((1, 2, 3), ('shakti', 'rajbhar', 'rahul'), (True, False))\n",
    "print(\"Nested tuple:\", nested_t)"
   ]
  },
  {
   "cell_type": "code",
   "execution_count": 16,
   "id": "3f3a0dc9-7d88-4b5c-b70c-b13a175a8b45",
   "metadata": {},
   "outputs": [
    {
     "name": "stdout",
     "output_type": "stream",
     "text": [
      "First element of the nested tuple: (1, 2, 3)\n"
     ]
    }
   ],
   "source": [
    "#16 Access the first element of a nested tuple\n",
    "nested_t= ((1, 2, 3), ('shakti', 'rajbhar', 'rahul'), (True, False))\n",
    "first_element = nested_t[0]\n",
    "print(\"First element of the nested tuple:\", first_element)"
   ]
  },
  {
   "cell_type": "code",
   "execution_count": 17,
   "id": "ff805301-006e-45df-bdd7-619915fb2744",
   "metadata": {},
   "outputs": [
    {
     "name": "stdout",
     "output_type": "stream",
     "text": [
      "Single element tuple: (42,)\n"
     ]
    }
   ],
   "source": [
    "#17  Create a tuple with a single element\n",
    "single_element_tuple = (42,)  \n",
    "print(\"Single element tuple:\", single_element_tuple)"
   ]
  },
  {
   "cell_type": "code",
   "execution_count": 19,
   "id": "79ac4cfc-9ea8-4c50-b408-68e0362b3e05",
   "metadata": {},
   "outputs": [
    {
     "name": "stdout",
     "output_type": "stream",
     "text": [
      "t1 == t2: False\n",
      "t1 != t2: True\n",
      "t1 < t2: True\n",
      "t1 <= t2: True\n",
      "t1 > t2: False\n",
      "t1 >= t2: False\n"
     ]
    }
   ],
   "source": [
    "#18 Compare two tuples\n",
    "t1 = (1, 2, 3)\n",
    "t2 = (1, 2, 4)\n",
    "print(\"t1 == t2:\", t1 == t2)  \n",
    "print(\"t1 != t2:\", t1 != t2)  \n",
    "print(\"t1 < t2:\", t1 < t2)    \n",
    "print(\"t1 <= t2:\", t1 <= t2)  \n",
    "print(\"t1 > t2:\", t1 > t2)    \n",
    "print(\"t1 >= t2:\", t1 >= t2) "
   ]
  },
  {
   "cell_type": "code",
   "execution_count": 21,
   "id": "6fd39d77-8081-4826-97fe-61037cb2b697",
   "metadata": {},
   "outputs": [
    {
     "ename": "NameError",
     "evalue": "name 't1' is not defined",
     "output_type": "error",
     "traceback": [
      "\u001b[0;31m---------------------------------------------------------------------------\u001b[0m",
      "\u001b[0;31mNameError\u001b[0m                                 Traceback (most recent call last)",
      "Cell \u001b[0;32mIn[21], line 4\u001b[0m\n\u001b[1;32m      2\u001b[0m t1\u001b[38;5;241m=\u001b[39m (\u001b[38;5;241m1\u001b[39m, \u001b[38;5;241m2\u001b[39m, \u001b[38;5;241m3\u001b[39m, \u001b[38;5;241m4\u001b[39m, \u001b[38;5;241m5\u001b[39m)\n\u001b[1;32m      3\u001b[0m \u001b[38;5;28;01mdel\u001b[39;00m t1\n\u001b[0;32m----> 4\u001b[0m \u001b[38;5;28mprint\u001b[39m(\u001b[43mt1\u001b[49m)\n",
      "\u001b[0;31mNameError\u001b[0m: name 't1' is not defined"
     ]
    }
   ],
   "source": [
    "#19 Delete a tuple\n",
    "t1= (1, 2, 3, 4, 5)\n",
    "del t1\n",
    "print(t1)"
   ]
  },
  {
   "cell_type": "code",
   "execution_count": 22,
   "id": "3db66a1f-6c04-4fe4-97ed-8efa9ff9d672",
   "metadata": {},
   "outputs": [
    {
     "name": "stdout",
     "output_type": "stream",
     "text": [
      "Sliced tuple: (3, 4, 5, 6)\n"
     ]
    }
   ],
   "source": [
    "#20 Slice a tuple\n",
    "my_tuple = (1, 2, 3, 4, 5, 6, 7, 8, 9, 10)\n",
    "sliced_tuple = my_tuple[2:6]  # Elements from index 2 to 5 (end index is exclusive)\n",
    "print(\"Sliced tuple:\", sliced_tuple)"
   ]
  },
  {
   "cell_type": "code",
   "execution_count": 23,
   "id": "efb177f5-d90d-4f64-a6b9-f37f94953756",
   "metadata": {},
   "outputs": [
    {
     "name": "stdout",
     "output_type": "stream",
     "text": [
      "Maximum value: 5\n"
     ]
    }
   ],
   "source": [
    "#21 Find the maximum value in a tuple\n",
    "my_tuple = (1,2,3,4,5)\n",
    "max_value = max(my_tuple)\n",
    "print(\"Maximum value:\", max_value)"
   ]
  },
  {
   "cell_type": "code",
   "execution_count": 25,
   "id": "08ea30ce-cb45-4c8f-be7f-89461daf765e",
   "metadata": {},
   "outputs": [
    {
     "name": "stdout",
     "output_type": "stream",
     "text": [
      "Minimum value: 2\n"
     ]
    }
   ],
   "source": [
    "#22 Find the minimum value in a tuple\n",
    "my_tuple = (10,2,3,4,20,30,50,100)\n",
    "min_value = min(my_tuple)\n",
    "print(\"Minimum value:\", min_value)"
   ]
  },
  {
   "cell_type": "code",
   "execution_count": 27,
   "id": "70228fb7-d8f3-4d40-b629-4fc18091cd44",
   "metadata": {},
   "outputs": [
    {
     "name": "stdout",
     "output_type": "stream",
     "text": [
      "Tuple of characters: ('s', 'h', 'a', 'k', 't', 'i', ' ', 'r', 'a', 'j', 'b', 'h', 'a', 'r')\n"
     ]
    }
   ],
   "source": [
    "#23 Convert a string to a tuple of characters\n",
    "my_string = \"shakti rajbhar\"\n",
    "tuple_of_characters = tuple(my_string)\n",
    "print(\"Tuple of characters:\", tuple_of_characters)"
   ]
  },
  {
   "cell_type": "code",
   "execution_count": 28,
   "id": "170d3596-9123-4cd9-a103-1fe289a1d8e6",
   "metadata": {},
   "outputs": [
    {
     "name": "stdout",
     "output_type": "stream",
     "text": [
      "String from tuple: Hello World!\n"
     ]
    }
   ],
   "source": [
    "#24 Convert a tuple of characters to a string\n",
    "tuple_of_characters = ('H', 'e', 'l', 'l', 'o', ' ', 'W', 'o', 'r', 'l', 'd', '!')\n",
    "string_from_tuple = ''.join(tuple_of_characters)\n",
    "print(\"String from tuple:\", string_from_tuple)"
   ]
  },
  {
   "cell_type": "code",
   "execution_count": 29,
   "id": "fa4d79af-98b8-4417-9aa9-5cc013283073",
   "metadata": {},
   "outputs": [
    {
     "name": "stdout",
     "output_type": "stream",
     "text": [
      "(1, 5, 3, 'shakti', 2.5, True, False)\n"
     ]
    }
   ],
   "source": [
    "#25 Create a tuple from multiple data types\n",
    "t1 = (1,5,3, \"shakti\", 2.5, True,False)\n",
    "print(t1)"
   ]
  },
  {
   "cell_type": "code",
   "execution_count": 30,
   "id": "14e07a19-f929-4dc6-8f65-c385dfafd6d5",
   "metadata": {},
   "outputs": [
    {
     "name": "stdout",
     "output_type": "stream",
     "text": [
      "tuple1 and tuple2 are identical: True\n",
      "tuple1 and tuple3 are identical: False\n"
     ]
    }
   ],
   "source": [
    "#26 Check if two tuples are identical\n",
    "t1 = (1, 2, 3)\n",
    "t2 = (1, 2, 3)\n",
    "t3 = (4, 5, 6)\n",
    "are_identical1 = t1 == t2\n",
    "are_identical2 = t1 == t3\n",
    "print(\"tuple1 and tuple2 are identical:\", are_identical1)\n",
    "print(\"tuple1 and tuple3 are identical:\", are_identical2)"
   ]
  },
  {
   "cell_type": "code",
   "execution_count": 31,
   "id": "b9999f32-5831-4ed6-b871-d999ce80a410",
   "metadata": {},
   "outputs": [
    {
     "name": "stdout",
     "output_type": "stream",
     "text": [
      "Sorted tuple: (1, 2, 3, 5, 8)\n"
     ]
    }
   ],
   "source": [
    "#27  Sort the elements of a tuple\n",
    "my_tuple = (5, 2, 8, 1, 3)\n",
    "sorted_tuple = tuple(sorted(my_tuple))\n",
    "print(\"Sorted tuple:\", sorted_tuple)"
   ]
  },
  {
   "cell_type": "code",
   "execution_count": 32,
   "id": "d2b65029-25a7-4cb5-9d9d-6f5f4d840fdc",
   "metadata": {},
   "outputs": [
    {
     "name": "stdout",
     "output_type": "stream",
     "text": [
      "Tuple of strings: ('1', '2', '3', '4', '5')\n"
     ]
    }
   ],
   "source": [
    "#28 Convert a tuple of integers to a tuple of strings\n",
    "tuple_of_integers = (1, 2, 3, 4, 5)\n",
    "tuple_of_strings = tuple(str(item) for item in tuple_of_integers)\n",
    "print(\"Tuple of strings:\", tuple_of_strings)"
   ]
  },
  {
   "cell_type": "code",
   "execution_count": 33,
   "id": "88bef3ad-dd83-4843-bfaf-e7baab908ae2",
   "metadata": {},
   "outputs": [
    {
     "name": "stdout",
     "output_type": "stream",
     "text": [
      "Tuple of integers: (10, 20, 30, 40, 50)\n"
     ]
    }
   ],
   "source": [
    "#29 Convert a tuple of strings to a tuple of integers\n",
    "tuple_of_strings = ('10', '20', '30', '40', '50')\n",
    "tuple_of_integers = tuple(int(item) for item in tuple_of_strings)\n",
    "print(\"Tuple of integers:\", tuple_of_integers)"
   ]
  },
  {
   "cell_type": "code",
   "execution_count": 34,
   "id": "bf6d6af9-7877-4ac3-a769-28a212328ee7",
   "metadata": {},
   "outputs": [
    {
     "name": "stdout",
     "output_type": "stream",
     "text": [
      "Merged tuple: (1, 2, 3, 4, 5, 6)\n"
     ]
    }
   ],
   "source": [
    "#30 Merge two tuples\n",
    "tuple1 = (1, 2, 3)\n",
    "tuple2 = (4, 5, 6)\n",
    "merged_tuple = tuple1 + tuple2\n",
    "print(\"Merged tuple:\", merged_tuple)"
   ]
  },
  {
   "cell_type": "code",
   "execution_count": 35,
   "id": "461ea6f3-192f-4f00-83d8-3809899141ed",
   "metadata": {},
   "outputs": [
    {
     "name": "stdout",
     "output_type": "stream",
     "text": [
      "Flattened tuple: (1, 2, 3, 4, 5, 6, 7, 8)\n"
     ]
    }
   ],
   "source": [
    "#31 Flatten a nested tuple\n",
    "def flatten_tuple(nested_tuple):\n",
    "    flattened = []\n",
    "    for item in nested_tuple:\n",
    "        if isinstance(item, tuple):\n",
    "            flattened.extend(flatten_tuple(item))\n",
    "        else:\n",
    "            flattened.append(item)\n",
    "    return flattened\n",
    "\n",
    "nested_tuple = ((1, 2), (3, 4, 5), (6, (7, 8)))\n",
    "flattened_tuple = tuple(flatten_tuple(nested_tuple))\n",
    "print(\"Flattened tuple:\", flattened_tuple)"
   ]
  },
  {
   "cell_type": "code",
   "execution_count": 38,
   "id": "21f16332-e6af-457a-a794-c3cc8c6c4bbc",
   "metadata": {},
   "outputs": [
    {
     "name": "stdout",
     "output_type": "stream",
     "text": [
      "Tuple of the first 5 prime numbers: (2, 3, 5, 7, 11)\n"
     ]
    }
   ],
   "source": [
    "#32 Create a tuple of the first 5 prime numbers.\n",
    "def is_prime(num):\n",
    "    if num <= 1:\n",
    "        return False\n",
    "    for i in range(2, int(num ** 0.5) + 1):\n",
    "        if num % i == 0:\n",
    "            return False\n",
    "    return True\n",
    "prime_numbers_list = [num for num in range(2, 100) if is_prime(num)][:5]\n",
    "prime_numbers_tuple = tuple(prime_numbers_list)\n",
    "print(\"Tuple of the first 5 prime numbers:\", prime_numbers_tuple)"
   ]
  },
  {
   "cell_type": "code",
   "execution_count": 39,
   "id": "d08b407b-89bb-4124-a8a9-e0dfb7dec636",
   "metadata": {},
   "outputs": [
    {
     "name": "stdout",
     "output_type": "stream",
     "text": [
      "palindrome_tuple is a palindrome: True\n",
      "non_palindrome_tuple is a palindrome: False\n"
     ]
    }
   ],
   "source": [
    "#33 Check if a tuple is a palindrome\n",
    "def is_palindrome(tup):\n",
    "    return tup == tup[::-1]\n",
    "palindrome_tuple = (1, 2, 3, 2, 1)\n",
    "non_palindrome_tuple = (1, 2, 3, 4, 5)\n",
    "is_palindrome1 = is_palindrome(palindrome_tuple)\n",
    "is_palindrome2 = is_palindrome(non_palindrome_tuple)\n",
    "print(\"palindrome_tuple is a palindrome:\", is_palindrome1)\n",
    "print(\"non_palindrome_tuple is a palindrome:\", is_palindrome2)"
   ]
  },
  {
   "cell_type": "code",
   "execution_count": 40,
   "id": "d77f3b6c-7e97-46ac-9384-65d92fb89c36",
   "metadata": {},
   "outputs": [
    {
     "name": "stdout",
     "output_type": "stream",
     "text": [
      "Tuple of squares: (1, 4, 9, 16, 25)\n"
     ]
    }
   ],
   "source": [
    "#34 Create a tuple of squares of numbers from 1 to 5\n",
    "squares_tuple = tuple(x ** 2 for x in range(1, 6))\n",
    "print(\"Tuple of squares:\", squares_tuple)"
   ]
  },
  {
   "cell_type": "code",
   "execution_count": 41,
   "id": "433cd51d-db65-4c57-9e06-c79d228f4599",
   "metadata": {},
   "outputs": [
    {
     "name": "stdout",
     "output_type": "stream",
     "text": [
      "Filtered tuple: (1, 3, 5, 7, 9)\n"
     ]
    }
   ],
   "source": [
    "#35 Filter out all even numbers from a tuple\n",
    "original_tuple = (1, 2, 3, 4, 5, 6, 7, 8, 9, 10)\n",
    "filtered_tuple = tuple(num for num in original_tuple if num % 2 != 0)\n",
    "print(\"Filtered tuple:\", filtered_tuple)"
   ]
  },
  {
   "cell_type": "code",
   "execution_count": 42,
   "id": "b73b1b64-6ae5-4efa-bb19-bea4696b32df",
   "metadata": {},
   "outputs": [
    {
     "name": "stdout",
     "output_type": "stream",
     "text": [
      "Doubled tuple: (2, 4, 6, 8, 10)\n"
     ]
    }
   ],
   "source": [
    "#36 Multiply all elements in a tuple by 2\n",
    "original_tuple = (1, 2, 3, 4, 5)\n",
    "doubled_tuple = tuple(num * 2 for num in original_tuple)\n",
    "print(\"Doubled tuple:\", doubled_tuple)"
   ]
  },
  {
   "cell_type": "code",
   "execution_count": 43,
   "id": "14a63578-478d-488d-85b8-f0c862bc40df",
   "metadata": {},
   "outputs": [
    {
     "name": "stdout",
     "output_type": "stream",
     "text": [
      "Random tuple: (65, 14, 40, 26, 30, 35, 52, 67, 49, 41)\n"
     ]
    }
   ],
   "source": [
    "#37 Create a tuple of random numbers\n",
    "import random\n",
    "random_tuple = tuple(random.randint(1, 100) for _ in range(10))  # Generating 10 random numbers between 1 and 100\n",
    "print(\"Random tuple:\", random_tuple)"
   ]
  },
  {
   "cell_type": "code",
   "execution_count": 44,
   "id": "03148cc1-7c0b-4bf2-84a2-aa58d5a758ef",
   "metadata": {},
   "outputs": [
    {
     "name": "stdout",
     "output_type": "stream",
     "text": [
      "sorted_tuple is sorted: True\n",
      "unsorted_tuple is sorted: False\n"
     ]
    }
   ],
   "source": [
    "#38 Check if a tuple is sorted\n",
    "def is_sorted(tup):\n",
    "    for i in range(len(tup) - 1):\n",
    "        if tup[i] > tup[i + 1]:\n",
    "            return False\n",
    "    return True\n",
    "sorted_tuple = (1, 2, 3, 4, 5)\n",
    "unsorted_tuple = (5, 3, 1, 4, 2)\n",
    "is_sorted1 = is_sorted(sorted_tuple)\n",
    "is_sorted2 = is_sorted(unsorted_tuple)\n",
    "print(\"sorted_tuple is sorted:\", is_sorted1)\n",
    "print(\"unsorted_tuple is sorted:\", is_sorted2)"
   ]
  },
  {
   "cell_type": "code",
   "execution_count": 46,
   "id": "8307b126-2857-483a-9e4a-3c93519c8d37",
   "metadata": {},
   "outputs": [
    {
     "name": "stdout",
     "output_type": "stream",
     "text": [
      "(3, 4, 5, 1, 2)\n"
     ]
    }
   ],
   "source": [
    "#39 Rotate a tuple to the left by n position\n",
    "def rotate_tuple_left(tup, n):\n",
    "    n = n % len(tup)  \n",
    "    rotated_tuple = tup[n:] + tup[:n]  \n",
    "    return rotated_tuple\n",
    "\n",
    "my_tuple = (1, 2, 3, 4, 5)\n",
    "n_positions = 2\n",
    "result = rotate_tuple_left(my_tuple, n_positions)\n",
    "print(result)"
   ]
  },
  {
   "cell_type": "code",
   "execution_count": 47,
   "id": "e895acaa-f14c-478d-b7b7-cf701ec6dbce",
   "metadata": {},
   "outputs": [
    {
     "name": "stdout",
     "output_type": "stream",
     "text": [
      "(4, 5, 1, 2, 3)\n"
     ]
    }
   ],
   "source": [
    "#40 Rotate a tuple to the right by n position\n",
    "def rotate_tuple_right(tup, n):\n",
    "    n = n % len(tup)  \n",
    "    rotated_tuple = tup[-n:] + tup[:-n]  \n",
    "    return rotated_tuple\n",
    "my_tuple = (1, 2, 3, 4, 5)\n",
    "n_positions = 2\n",
    "result = rotate_tuple_right(my_tuple, n_positions)\n",
    "print(result)"
   ]
  },
  {
   "cell_type": "code",
   "execution_count": 48,
   "id": "b57ad8aa-1990-4c9a-ac00-15e90c0959f5",
   "metadata": {},
   "outputs": [
    {
     "name": "stdout",
     "output_type": "stream",
     "text": [
      "(0, 1, 1, 2, 3)\n"
     ]
    }
   ],
   "source": [
    "#41 Create a tuple of the first 5 Fibonacci numbers\n",
    "def generate_fibonacci(n):\n",
    "    fibonacci = [0, 1]  \n",
    "    while len(fibonacci) < n: \n",
    "        next_number = fibonacci[-1] + fibonacci[-2] \n",
    "        fibonacci.append(next_number)  \n",
    "    return tuple(fibonacci) \n",
    "fibonacci_tuple = generate_fibonacci(5)\n",
    "print(fibonacci_tuple)"
   ]
  },
  {
   "cell_type": "code",
   "execution_count": 49,
   "id": "9b0c7b0f-1eef-4cdc-bbb8-237fc6d732f4",
   "metadata": {},
   "outputs": [
    {
     "name": "stdin",
     "output_type": "stream",
     "text": [
      "Enter elements separated by commas:  s, d, ,d \n"
     ]
    },
    {
     "name": "stdout",
     "output_type": "stream",
     "text": [
      "User input tuple: ('s', ' d', ' ', 'd ')\n"
     ]
    }
   ],
   "source": [
    "#42 Create a tuple from user input.\n",
    "\n",
    "input_str = input(\"Enter elements separated by commas: \")\n",
    "input_list = input_str.split(',')\n",
    "user_tuple = tuple(input_list)\n",
    "print(\"User input tuple:\", user_tuple)"
   ]
  },
  {
   "cell_type": "code",
   "execution_count": 50,
   "id": "14e8303d-5ecb-4689-90a3-37811e01900a",
   "metadata": {},
   "outputs": [
    {
     "name": "stdout",
     "output_type": "stream",
     "text": [
      "Swapped tuple: (1, 4, 3, 2, 5)\n"
     ]
    }
   ],
   "source": [
    "#43  Swap two elements in a tuple.\n",
    "my_tuple = (1, 2, 3, 4, 5)\n",
    "index1 = 1\n",
    "index2 = 3\n",
    "swapped_tuple = tuple(\n",
    "    my_tuple[i] if i not in (index1, index2) else\n",
    "    my_tuple[index2] if i == index1 else\n",
    "    my_tuple[index1]\n",
    "    for i in range(len(my_tuple))\n",
    ")\n",
    "print(\"Swapped tuple:\", swapped_tuple)"
   ]
  },
  {
   "cell_type": "code",
   "execution_count": 51,
   "id": "b92ef1ec-408b-42f2-bc29-9170a14c3281",
   "metadata": {},
   "outputs": [
    {
     "name": "stdout",
     "output_type": "stream",
     "text": [
      "Reversed tuple: (5, 4, 3, 2, 1)\n"
     ]
    }
   ],
   "source": [
    "#44 Reverse the elements of a tuple\n",
    "my_tuple = (1, 2, 3, 4, 5)\n",
    "reversed_tuple = my_tuple[::-1]\n",
    "print(\"Reversed tuple:\", reversed_tuple)"
   ]
  },
  {
   "cell_type": "code",
   "execution_count": 52,
   "id": "95aabed5-9a96-4dcb-9d01-225919dec4ff",
   "metadata": {},
   "outputs": [
    {
     "name": "stdout",
     "output_type": "stream",
     "text": [
      "Tuple of the first 5 powers of 2: (1, 2, 4, 8, 16)\n"
     ]
    }
   ],
   "source": [
    "#45 Create a tuple of the first n powers of 2.\n",
    "n = 5\n",
    "powers_of_2_tuple = tuple(2 ** i for i in range(n))\n",
    "print(\"Tuple of the first\", n, \"powers of 2:\", powers_of_2_tuple)"
   ]
  },
  {
   "cell_type": "code",
   "execution_count": 53,
   "id": "65b35b8e-1be3-4e42-a190-882bbb70c2f8",
   "metadata": {},
   "outputs": [
    {
     "name": "stdout",
     "output_type": "stream",
     "text": [
      "Longest string: watermelon\n"
     ]
    }
   ],
   "source": [
    "#46 Find the longest string in a tuple of strings\n",
    "string_tuple = (\"apple\", \"banana\", \"grape\", \"kiwi\", \"watermelon\")\n",
    "longest_string = max(string_tuple, key=len)\n",
    "print(\"Longest string:\", longest_string)"
   ]
  },
  {
   "cell_type": "code",
   "execution_count": 54,
   "id": "96d66d99-95d1-4f37-8d5a-1435bc0691cb",
   "metadata": {},
   "outputs": [
    {
     "name": "stdout",
     "output_type": "stream",
     "text": [
      "Shortest string: kiwi\n"
     ]
    }
   ],
   "source": [
    "#47 Find the shortest string in a tuple of strings\n",
    "string_tuple = (\"apple\", \"banana\", \"grape\", \"kiwi\", \"watermelon\")\n",
    "shortest_string = min(string_tuple, key=len)\n",
    "print(\"Shortest string:\", shortest_string)"
   ]
  },
  {
   "cell_type": "code",
   "execution_count": 55,
   "id": "eeaed433-e114-4842-854a-94923bfc500c",
   "metadata": {},
   "outputs": [
    {
     "name": "stdout",
     "output_type": "stream",
     "text": [
      "Tuple of the first 5 triangular numbers: (1, 3, 6, 10, 15)\n"
     ]
    }
   ],
   "source": [
    "#48 Create a tuple of the first n triangular numbers\n",
    "n = 5\n",
    "triangular_numbers_tuple = tuple((i * (i + 1)) // 2 for i in range(1, n + 1))\n",
    "print(\"Tuple of the first\", n, \"triangular numbers:\", triangular_numbers_tuple)"
   ]
  },
  {
   "cell_type": "code",
   "execution_count": 56,
   "id": "3d6bb099-d864-4b2e-85d0-a743d1c47797",
   "metadata": {},
   "outputs": [
    {
     "name": "stdout",
     "output_type": "stream",
     "text": [
      "Main tuple contains subsequence tuple: True\n"
     ]
    }
   ],
   "source": [
    "#49  Check if a tuple contains another tuple as a subsequence.\n",
    "def contains_subsequence(main_tuple, sub_tuple):\n",
    "    sub_length = len(sub_tuple)\n",
    "    for i in range(len(main_tuple) - sub_length + 1):\n",
    "        if main_tuple[i:i+sub_length] == sub_tuple:\n",
    "            return True\n",
    "    return False\n",
    "\n",
    "main_tuple = (1, 2, 3, 4, 5, 6, 7, 8, 9)\n",
    "sub_tuple = (3, 4, 5)\n",
    "contains_subseq = contains_subsequence(main_tuple, sub_tuple)\n",
    "print(\"Main tuple contains subsequence tuple:\", contains_subseq)"
   ]
  },
  {
   "cell_type": "code",
   "execution_count": 58,
   "id": "52a71cc6-1394-4918-9fb9-8da91276f691",
   "metadata": {},
   "outputs": [
    {
     "name": "stdout",
     "output_type": "stream",
     "text": [
      "Tuple of alternating 1s and 0s: (0, 1, 0, 1, 0, 1, 0, 1, 0, 1)\n"
     ]
    }
   ],
   "source": [
    "#50  Create a tuple of alternating 1s and 0s of length n\n",
    "# Define the value of n\n",
    "n = 10\n",
    "alternating_tuple = tuple(i % 2 for i in range(n))\n",
    "print(\"Tuple of alternating 1s and 0s:\", alternating_tuple)"
   ]
  },
  {
   "cell_type": "code",
   "execution_count": 3,
   "id": "64691095-9a7e-41ed-90d8-6f26c87cc760",
   "metadata": {},
   "outputs": [
    {
     "name": "stdout",
     "output_type": "stream",
     "text": [
      "{1, 2, 3, 4, 5}\n"
     ]
    }
   ],
   "source": [
    "#set based \n",
    "#1  Create a set with integers from 1 to 5\n",
    "# Step 1: Create an empty set\n",
    "s1 = {1,2,3,4,5}\n",
    "type(s1)\n",
    "print(s1)\n"
   ]
  },
  {
   "cell_type": "code",
   "execution_count": 6,
   "id": "374864ca-6acd-49ff-9dbc-fb42e373a946",
   "metadata": {},
   "outputs": [
    {
     "name": "stdout",
     "output_type": "stream",
     "text": [
      "Original set: {50, 20, 40, 10, 30}\n",
      "Set after adding element: {50, 20, 40, 10, 60, 30}\n"
     ]
    }
   ],
   "source": [
    "#2 Add an element to a set\n",
    "s1 = {10, 20, 30, 40, 50}\n",
    "print(\"Original set:\", s1)\n",
    "element_to_add = 60\n",
    "s1.add(element_to_add)\n",
    "print(\"Set after adding element:\", s1)"
   ]
  },
  {
   "cell_type": "code",
   "execution_count": 7,
   "id": "c5ffd334-7019-40f1-826a-4ed9c33f3e92",
   "metadata": {},
   "outputs": [
    {
     "name": "stdout",
     "output_type": "stream",
     "text": [
      "Original set: {50, 20, 40, 10, 30}\n",
      "Set after removing 50 : {20, 40, 10, 30}\n"
     ]
    }
   ],
   "source": [
    "#3 Remove an element from a set\n",
    "s1 = {10, 20, 30, 40, 50}\n",
    "print(\"Original set:\", s1)\n",
    "element_to_remove = 50\n",
    "s1.remove(element_to_remove)\n",
    "print(\"Set after removing\", element_to_remove, \":\", s1)"
   ]
  },
  {
   "cell_type": "code",
   "execution_count": 8,
   "id": "52bfbf60-b81e-4985-a3c5-73cec757ae7e",
   "metadata": {},
   "outputs": [
    {
     "name": "stdin",
     "output_type": "stream",
     "text": [
      "Enter the element to check:  7\n"
     ]
    },
    {
     "name": "stdout",
     "output_type": "stream",
     "text": [
      "7 exists in the set.\n"
     ]
    }
   ],
   "source": [
    "#4 Check if an element exists in a set\n",
    "s1 = {1,2,3,4,5,6,7,8,9,10}\n",
    "element_to_check = int(input(\"Enter the element to check: \"))\n",
    "if element_to_check in s1:\n",
    "    print(f\"{element_to_check} exists in the set.\")\n",
    "else:\n",
    "    # Step 5: If the element does not exist in the set, print a message\n",
    "    print(f\"{element_to_check} does not exist in the set.\")"
   ]
  },
  {
   "cell_type": "code",
   "execution_count": 11,
   "id": "b6fbfde8-56ea-474f-ab6b-39b8df2a67a7",
   "metadata": {},
   "outputs": [
    {
     "name": "stdout",
     "output_type": "stream",
     "text": [
      "Length of the set: 10\n"
     ]
    }
   ],
   "source": [
    "#5 Find the length of a set without using the len() function\n",
    "s1 = {1, 2, 3, 4, 5,6,7,8,9,10}\n",
    "count = 0\n",
    "for _ in s1 :\n",
    "    count += 1\n",
    "print(\"Length of the set:\", count)"
   ]
  },
  {
   "cell_type": "code",
   "execution_count": 12,
   "id": "f1bf6d72-3c9a-49a4-808c-92f5725d0aa4",
   "metadata": {},
   "outputs": [
    {
     "name": "stdout",
     "output_type": "stream",
     "text": [
      "Original set: {1, 2, 3, 4, 5, 6, 7, 8, 9, 10}\n",
      "Set after clearing: set()\n"
     ]
    }
   ],
   "source": [
    "#6 Clear all elements from a set\n",
    "my_set = {1,2,3,4,5,6,7,8,9,10}\n",
    "print(\"Original set:\", s1)\n",
    "s1.clear()\n",
    "print(\"Set after clearing:\", s1)"
   ]
  },
  {
   "cell_type": "code",
   "execution_count": 13,
   "id": "9949d1d8-26d3-45cd-927d-d408b10c4d22",
   "metadata": {},
   "outputs": [
    {
     "name": "stdout",
     "output_type": "stream",
     "text": [
      "{2, 4, 6, 8, 10}\n"
     ]
    }
   ],
   "source": [
    "#7 Create a set of even numbers from 1 to 10\n",
    "even_set = set()\n",
    "for num in range(1, 11):\n",
    "    if num % 2 == 0:\n",
    "             even_set.add(num)\n",
    "print(even_set)"
   ]
  },
  {
   "cell_type": "code",
   "execution_count": 14,
   "id": "95d5fd31-0ba1-4f5e-b934-c6443e5473f2",
   "metadata": {},
   "outputs": [
    {
     "name": "stdout",
     "output_type": "stream",
     "text": [
      "{1, 3, 5, 7, 9}\n"
     ]
    }
   ],
   "source": [
    "#8 Create a set of odd numbers from 1 to 10\n",
    "odd_numbers_set = set()\n",
    "for num in range(1, 11):\n",
    "    if num % 2 != 0:\n",
    "        odd_numbers_set.add(num)\n",
    "print(odd_numbers_set)"
   ]
  },
  {
   "cell_type": "code",
   "execution_count": 15,
   "id": "70ea084d-b28b-492a-a3c2-e7f77508d337",
   "metadata": {},
   "outputs": [
    {
     "name": "stdout",
     "output_type": "stream",
     "text": [
      "Set 1: {1, 2, 3, 4, 5}\n",
      "Set 2: {4, 5, 6, 7, 8}\n",
      "Union of Set 1 and Set 2: {1, 2, 3, 4, 5, 6, 7, 8}\n"
     ]
    }
   ],
   "source": [
    "#9 Find the union of two sets\n",
    "set1 = {1, 2, 3, 4, 5}\n",
    "set2 = {4, 5, 6, 7, 8}\n",
    "union_result = set1.union(set2)\n",
    "print(\"Set 1:\", set1)\n",
    "print(\"Set 2:\", set2)\n",
    "print(\"Union of Set 1 and Set 2:\", union_result)"
   ]
  },
  {
   "cell_type": "code",
   "execution_count": 16,
   "id": "2e82251c-91d7-4614-8ff3-c8215bb5346b",
   "metadata": {},
   "outputs": [
    {
     "name": "stdout",
     "output_type": "stream",
     "text": [
      "Set 1: {1, 2, 3, 4, 5}\n",
      "Set 2: {3, 4, 5, 6, 7}\n",
      "Intersection: {3, 4, 5}\n"
     ]
    }
   ],
   "source": [
    "#10 Find the intersection of two sets\n",
    "set1 = {1, 2, 3, 4, 5}\n",
    "set2 = {3, 4, 5, 6, 7}\n",
    "intersection_result = set1.intersection(set2)\n",
    "print(\"Set 1:\", set1)\n",
    "print(\"Set 2:\", set2)\n",
    "print(\"Intersection:\", intersection_result)"
   ]
  },
  {
   "cell_type": "code",
   "execution_count": 17,
   "id": "cbaa35eb-5168-4f13-bd0a-c8e9d4ed4a29",
   "metadata": {},
   "outputs": [
    {
     "name": "stdout",
     "output_type": "stream",
     "text": [
      "Set 1: {1, 2, 3, 4, 5}\n",
      "Set 2: {3, 4, 5, 6, 7}\n",
      "Difference: {1, 2}\n"
     ]
    }
   ],
   "source": [
    "#11 Find the difference between two sets.\n",
    "set1 = {1, 2, 3, 4, 5}\n",
    "set2 = {3, 4, 5, 6, 7}\n",
    "difference_set = set1.difference(set2)\n",
    "print(\"Set 1:\", set1)\n",
    "print(\"Set 2:\", set2)\n",
    "print(\"Difference:\", difference_set)"
   ]
  },
  {
   "cell_type": "code",
   "execution_count": 18,
   "id": "43fdfd48-ed9c-4f55-bee9-9539a1938020",
   "metadata": {},
   "outputs": [
    {
     "name": "stdout",
     "output_type": "stream",
     "text": [
      "Is set1 a subset of set2: True\n"
     ]
    }
   ],
   "source": [
    "#12 Check if a set is a subset of another set\n",
    "set1 = {1, 2, 3}\n",
    "set2 = {1, 2, 3, 4, 5}\n",
    "is_subset = set1.issubset(set2)\n",
    "print(\"Is set1 a subset of set2:\", is_subset)"
   ]
  },
  {
   "cell_type": "code",
   "execution_count": 19,
   "id": "6cb2cb84-435e-44b2-90e4-2d41d3f3b3cd",
   "metadata": {},
   "outputs": [
    {
     "name": "stdout",
     "output_type": "stream",
     "text": [
      "set1 is a superset of set2\n"
     ]
    }
   ],
   "source": [
    "#13 Check if a set is a superset of another set\n",
    "set1 = {1, 2, 3, 4, 5, 6}\n",
    "set2 = {3, 4}\n",
    "is_superset = set1.issuperset(set2)\n",
    "if is_superset:\n",
    "    print(\"set1 is a superset of set2\")\n",
    "else:\n",
    "    print(\"set1 is not a superset of set2\")"
   ]
  },
  {
   "cell_type": "code",
   "execution_count": 20,
   "id": "6914d9c8-bd55-4631-b8de-3faeb4ce7f0e",
   "metadata": {},
   "outputs": [
    {
     "name": "stdout",
     "output_type": "stream",
     "text": [
      "Original List: [2, 4, 1, 4, 3, 2, 5]\n",
      "Set from List: {1, 2, 3, 4, 5}\n"
     ]
    }
   ],
   "source": [
    "#14 Create a set from a list\n",
    "l1 = [2, 4, 1, 4, 3, 2, 5]\n",
    "s1 = set(l1)\n",
    "print(\"Original List:\", l1)\n",
    "print(\"Set from List:\",s1)"
   ]
  },
  {
   "cell_type": "code",
   "execution_count": 21,
   "id": "69d6f15b-328b-4383-9c33-8cc57e454ea4",
   "metadata": {},
   "outputs": [
    {
     "name": "stdout",
     "output_type": "stream",
     "text": [
      "Original Set: {1, 2, 3, 4, 5, 6, 9}\n",
      "Converted List: [1, 2, 3, 4, 5, 6, 9]\n"
     ]
    }
   ],
   "source": [
    "#15 Convert a set to a list.\n",
    "s1 = {3, 1, 4, 1, 5, 9, 2, 6, 5}\n",
    "l1 = list(s1)\n",
    "print(\"Original Set:\", s1)\n",
    "print(\"Converted List:\", l1)"
   ]
  },
  {
   "cell_type": "code",
   "execution_count": 22,
   "id": "1bb04b74-544e-468c-8c2a-5bc7e341ce0f",
   "metadata": {},
   "outputs": [
    {
     "name": "stdout",
     "output_type": "stream",
     "text": [
      "Original set: {1, 2, 3, 4, 5, 6, 7, 8, 9, 10}\n",
      "Updated set after removing 7 : {1, 2, 3, 4, 5, 6, 8, 9, 10}\n"
     ]
    }
   ],
   "source": [
    "#16  Remove a random element from a set\n",
    "import random  # Import the random module\n",
    "s1 = {1,2,3,4,5,6,7,8,9,10}\n",
    "print(\"Original set:\", s1)\n",
    "random_element = random.choice(list(s1))\n",
    "s1.remove(random_element)\n",
    "print(\"Updated set after removing\", random_element, \":\", s1)"
   ]
  },
  {
   "cell_type": "code",
   "execution_count": 23,
   "id": "5abb963b-1991-4b5f-976f-d57c055f76fd",
   "metadata": {},
   "outputs": [
    {
     "name": "stdout",
     "output_type": "stream",
     "text": [
      "Original set: {1, 2, 3, 4, 5}\n",
      "Popped element: 1\n",
      "Set after popping: {2, 3, 4, 5}\n"
     ]
    }
   ],
   "source": [
    "#17 Pop an element from a set\n",
    "s1 = {1, 2, 3, 4, 5}\n",
    "print(\"Original set:\", s1)\n",
    "popped_element = s1.pop()\n",
    "print(\"Popped element:\", popped_element)\n",
    "print(\"Set after popping:\", s1)"
   ]
  },
  {
   "cell_type": "code",
   "execution_count": 24,
   "id": "7741e065-11c4-4d8e-b198-4ff5be1c600c",
   "metadata": {},
   "outputs": [
    {
     "name": "stdout",
     "output_type": "stream",
     "text": [
      "The two sets have no elements in common.\n"
     ]
    }
   ],
   "source": [
    "#18  Check if two sets have no elements in common\n",
    "set1 = {1, 2, 3, 4}\n",
    "set2 = {5, 6, 7, 8}\n",
    "common_elements = set1.intersection(set2)\n",
    "if not common_elements:\n",
    "    print(\"The two sets have no elements in common.\")\n",
    "else:\n",
    "    print(\"The two sets have common elements:\", common_elements)"
   ]
  },
  {
   "cell_type": "code",
   "execution_count": 25,
   "id": "fea24aea-f0f1-4a36-86b5-e62c9c0060d4",
   "metadata": {},
   "outputs": [
    {
     "name": "stdout",
     "output_type": "stream",
     "text": [
      "Symmetric Difference: {1, 2, 3, 6, 7, 8}\n"
     ]
    }
   ],
   "source": [
    "#19 Find the symmetric difference between two sets\n",
    "set1 = {1, 2, 3, 4, 5}\n",
    "set2 = {4, 5, 6, 7, 8}\n",
    "symmetric_difference = set1 ^ set2\n",
    "print(\"Symmetric Difference:\", symmetric_difference)"
   ]
  },
  {
   "cell_type": "code",
   "execution_count": 26,
   "id": "6e7bda72-c68b-40d8-b1d8-9b5a9ad3dc90",
   "metadata": {},
   "outputs": [
    {
     "name": "stdout",
     "output_type": "stream",
     "text": [
      "Set 1: {1, 2, 3}\n",
      "Set 2: {3, 4, 5}\n",
      "Updated Set 1: {1, 2, 3, 4, 5}\n"
     ]
    }
   ],
   "source": [
    "#20 Update a set with elements from another set\n",
    "set1 = {1, 2, 3}\n",
    "print(\"Set 1:\", set1)\n",
    "set2 = {3, 4, 5}\n",
    "print(\"Set 2:\", set2)\n",
    "set1.update(set2)\n",
    "print(\"Updated Set 1:\", set1)"
   ]
  },
  {
   "cell_type": "code",
   "execution_count": 27,
   "id": "cd498ac4-a433-40c1-8b5a-4f6946ef4ae6",
   "metadata": {},
   "outputs": [
    {
     "name": "stdout",
     "output_type": "stream",
     "text": [
      "Set of the first 5 prime numbers: {2, 3, 5, 7, 11}\n"
     ]
    }
   ],
   "source": [
    "#21 Create a set of the first 5 prime numbers\n",
    "def is_prime(num):\n",
    "    if num <= 1:\n",
    "        return False\n",
    "    for i in range(2, int(num ** 0.5) + 1):\n",
    "        if num % i == 0:\n",
    "            return False\n",
    "    return True\n",
    "prime_set = set()\n",
    "num = 2\n",
    "while len(prime_set) < 5:\n",
    "    if is_prime(num):\n",
    "        prime_set.add(num)\n",
    "    num += 1\n",
    "\n",
    "print(\"Set of the first 5 prime numbers:\", prime_set)"
   ]
  },
  {
   "cell_type": "code",
   "execution_count": 28,
   "id": "43d1726c-efe9-47b4-a891-e78892f824af",
   "metadata": {},
   "outputs": [
    {
     "name": "stdout",
     "output_type": "stream",
     "text": [
      "The sets are identical.\n"
     ]
    }
   ],
   "source": [
    "#22 Check if two sets are identical\n",
    "set1 = {1, 2, 3, 4, 5}\n",
    "set2 = {3, 1, 5, 2, 4}  \n",
    "if set1 == set2:\n",
    "    print(\"The sets are identical.\")\n",
    "else:\n",
    "    print(\"The sets are not identical.\")"
   ]
  },
  {
   "cell_type": "code",
   "execution_count": 29,
   "id": "6358613c-8b65-4ed9-9c95-97c668dbd81f",
   "metadata": {},
   "outputs": [
    {
     "name": "stdout",
     "output_type": "stream",
     "text": [
      "Frozen Set: frozenset({1, 2, 3, 4, 5})\n"
     ]
    }
   ],
   "source": [
    "#23 Create a frozen set\n",
    "elements = [1, 2, 3, 4, 5]\n",
    "my_frozen_set = frozenset(elements)\n",
    "print(\"Frozen Set:\", my_frozen_set)"
   ]
  },
  {
   "cell_type": "code",
   "execution_count": 30,
   "id": "662829af-08ba-4bdc-b621-a40a85e1c15b",
   "metadata": {},
   "outputs": [
    {
     "name": "stdout",
     "output_type": "stream",
     "text": [
      "Are the sets disjoint? True\n"
     ]
    }
   ],
   "source": [
    "#24 Check if a set is disjoint with another set\n",
    "set1 = {1, 2, 3, 4}\n",
    "set2 = {5, 6, 7, 8}\n",
    "disjoint_status = set1.isdisjoint(set2)\n",
    "print(\"Are the sets disjoint?\", disjoint_status)"
   ]
  },
  {
   "cell_type": "code",
   "execution_count": 31,
   "id": "470a25e6-4bda-4ccc-a59b-813b23af4922",
   "metadata": {},
   "outputs": [
    {
     "name": "stdout",
     "output_type": "stream",
     "text": [
      "{1, 4, 9, 16, 25}\n"
     ]
    }
   ],
   "source": [
    "#25  Create a set of squares of numbers from 1 to 5\n",
    "squares_set = set()\n",
    "for num in range(1, 6):\n",
    "    square = num ** 2\n",
    "    squares_set.add(square)\n",
    "print(squares_set)"
   ]
  },
  {
   "cell_type": "code",
   "execution_count": 32,
   "id": "a4f53ee3-cd22-47e1-b3f2-bfa413d8c9de",
   "metadata": {},
   "outputs": [
    {
     "name": "stdout",
     "output_type": "stream",
     "text": [
      "Original Set: {1, 2, 3, 4, 5}\n",
      "Even Numbers Set: {2, 4}\n"
     ]
    }
   ],
   "source": [
    "# 26  Filter out all even numbers from a set\n",
    "original_set = {1, 2, 3, 4, 5}\n",
    "even_numbers_set = set()\n",
    "for num in original_set:\n",
    "    if num % 2 == 0:\n",
    "        even_numbers_set.add(num)\n",
    "print(\"Original Set:\", original_set)\n",
    "print(\"Even Numbers Set:\", even_numbers_set)"
   ]
  },
  {
   "cell_type": "code",
   "execution_count": 33,
   "id": "c31039d4-1339-4e4f-8c5a-5a1197a79be8",
   "metadata": {},
   "outputs": [
    {
     "name": "stdout",
     "output_type": "stream",
     "text": [
      "Original Set: {1, 2, 3, 4, 5}\n",
      "Multiplied Set: {2, 4, 6, 8, 10}\n"
     ]
    }
   ],
   "source": [
    "#27 Multiply all elements in a set by 2\n",
    "original_set = {1, 2, 3, 4, 5}\n",
    "multiplied_set = set()\n",
    "for num in original_set:\n",
    "    multiplied_num = num * 2\n",
    "    multiplied_set.add(multiplied_num)\n",
    "print(\"Original Set:\", original_set)\n",
    "print(\"Multiplied Set:\", multiplied_set)"
   ]
  },
  {
   "cell_type": "code",
   "execution_count": 34,
   "id": "bbca7fa5-b3cc-4d5e-8722-2363b7a79a9c",
   "metadata": {},
   "outputs": [
    {
     "name": "stdout",
     "output_type": "stream",
     "text": [
      "Generated set of random numbers: {99, 77, 18, 87, 55}\n"
     ]
    }
   ],
   "source": [
    "#28 Create a set of random numbers\n",
    "import random\n",
    "num_random_numbers = 5\n",
    "random_number_set = set()\n",
    "for _ in range(num_random_numbers):\n",
    "    random_num = random.randint(1, 100)  # Generate a random number between 1 and 100\n",
    "    random_number_set.add(random_num)\n",
    "\n",
    "print(\"Generated set of random numbers:\", random_number_set)"
   ]
  },
  {
   "cell_type": "code",
   "execution_count": 35,
   "id": "f6909d88-0473-4047-b9df-c6b241cf19a0",
   "metadata": {},
   "outputs": [
    {
     "name": "stdout",
     "output_type": "stream",
     "text": [
      "The set is empty.\n"
     ]
    }
   ],
   "source": [
    "#29 Check if a set is empty\n",
    "my_set = set()\n",
    "if not my_set:\n",
    "    print(\"The set is empty.\")\n",
    "else:\n",
    "    print(\"The set is not empty.\")"
   ]
  },
  {
   "cell_type": "code",
   "execution_count": 36,
   "id": "e3395f24-b448-41ff-9b81-09b3f58f73ab",
   "metadata": {},
   "outputs": [
    {
     "name": "stdout",
     "output_type": "stream",
     "text": [
      "Nested Set: {frozenset({1, 2, 3, 4, 5}), frozenset({6, 7, 8, 9, 10})}\n"
     ]
    }
   ],
   "source": [
    "#30 Create a nested set (hint: use frozenset)\n",
    "set1 = {1, 2, 3, 4, 5}\n",
    "set2 = {6, 7, 8, 9, 10}\n",
    "frozen_set1 = frozenset(set1)\n",
    "frozen_set2 = frozenset(set2)\n",
    "nested_set = {frozen_set1, frozen_set2}\n",
    "print(\"Nested Set:\", nested_set)"
   ]
  },
  {
   "cell_type": "code",
   "execution_count": 37,
   "id": "eb813e53-b922-42d3-a78b-d67742bf3e5a",
   "metadata": {},
   "outputs": [
    {
     "name": "stdout",
     "output_type": "stream",
     "text": [
      "Initial set: {1, 2, 3, 4, 5}\n",
      "Set after removing 3 : {1, 2, 4, 5}\n"
     ]
    }
   ],
   "source": [
    "#31 Remove an element from a set using the discard method\n",
    "my_set = {1, 2, 3, 4, 5}\n",
    "print(\"Initial set:\", my_set)\n",
    "element_to_remove = 3\n",
    "my_set.discard(element_to_remove)\n",
    "\n",
    "print(\"Set after removing\", element_to_remove, \":\", my_set)"
   ]
  },
  {
   "cell_type": "code",
   "execution_count": 38,
   "id": "3a2608f3-515b-4eb7-b425-2a99b91e8b1d",
   "metadata": {},
   "outputs": [
    {
     "name": "stdout",
     "output_type": "stream",
     "text": [
      "Set 1: {1, 2, 3, 4, 5}\n",
      "Set 2: {4, 5, 6, 7, 8}\n",
      "Is set1 a subset of set2? False\n",
      "Is set2 a subset of set1? False\n",
      "Intersection: {4, 5}\n",
      "Union: {1, 2, 3, 4, 5, 6, 7, 8}\n",
      "Elements in set1 but not in set2: {1, 2, 3}\n",
      "Elements in set2 but not in set1: {8, 6, 7}\n"
     ]
    }
   ],
   "source": [
    "#32 Compare two sets.\n",
    "set1 = {1, 2, 3, 4, 5}\n",
    "set2 = {4, 5, 6, 7, 8}\n",
    "is_subset = set1.issubset(set2)\n",
    "is_superset = set1.issuperset(set2)\n",
    "intersection = set1.intersection(set2)\n",
    "union = set1.union(set2)\n",
    "difference1 = set1.difference(set2)\n",
    "difference2 = set2.difference(set1)\n",
    "print(\"Set 1:\", set1)\n",
    "print(\"Set 2:\", set2)\n",
    "print(\"Is set1 a subset of set2?\", is_subset)\n",
    "print(\"Is set2 a subset of set1?\", is_superset)\n",
    "print(\"Intersection:\", intersection)\n",
    "print(\"Union:\", union)\n",
    "print(\"Elements in set1 but not in set2:\", difference1)\n",
    "print(\"Elements in set2 but not in set1:\", difference2)"
   ]
  },
  {
   "cell_type": "code",
   "execution_count": 39,
   "id": "6c6b0d20-770f-48ce-a787-530ad30f6cb2",
   "metadata": {},
   "outputs": [
    {
     "name": "stdout",
     "output_type": "stream",
     "text": [
      "{'l', 'e', 'h', 'o'}\n"
     ]
    }
   ],
   "source": [
    "#33 Create a set from a string\n",
    "input_string = \"hello\"\n",
    "char_set = set(input_string)\n",
    "print(char_set)"
   ]
  },
  {
   "cell_type": "code",
   "execution_count": 40,
   "id": "3a6b8f71-7a8a-408d-9f59-457a58f50f3d",
   "metadata": {},
   "outputs": [
    {
     "name": "stdout",
     "output_type": "stream",
     "text": [
      "Original String Set: {'123', '456', '789'}\n",
      "Converted Integer Set: {456, 123, 789}\n"
     ]
    }
   ],
   "source": [
    "#34 . Convert a set of strings to a set of integers\n",
    "string_set = {\"123\", \"456\", \"789\"}\n",
    "integer_set = set()\n",
    "for string in string_set:\n",
    "    integer_value = int(string)\n",
    "    integer_set.add(integer_value)\n",
    "print(\"Original String Set:\", string_set)\n",
    "print(\"Converted Integer Set:\", integer_set)"
   ]
  },
  {
   "cell_type": "code",
   "execution_count": 41,
   "id": "ace08e24-7ce2-4ba4-af98-d314cc99dffe",
   "metadata": {},
   "outputs": [
    {
     "name": "stdout",
     "output_type": "stream",
     "text": [
      "Original integers_set: {1, 2, 3, 4, 5}\n",
      "Converted strings_set: {'1', '2', '3', '4', '5'}\n"
     ]
    }
   ],
   "source": [
    "#35 Convert a set of integers to a set of strings\n",
    "integers_set = {1, 2, 3, 4, 5}\n",
    "strings_set = set()\n",
    "for num in integers_set:\n",
    "    num_str = str(num)\n",
    "    strings_set.add(num_str)\n",
    "print(\"Original integers_set:\", integers_set)\n",
    "print(\"Converted strings_set:\", strings_set)"
   ]
  },
  {
   "cell_type": "code",
   "execution_count": 42,
   "id": "fb4ba46d-d513-406e-8727-79f4b45c3775",
   "metadata": {},
   "outputs": [
    {
     "name": "stdout",
     "output_type": "stream",
     "text": [
      "{1, 2, 3, 4, 5}\n"
     ]
    }
   ],
   "source": [
    "#36 Create a set from a tuple\n",
    "input_tuple = (1, 2, 3, 2, 4, 5, 1)\n",
    "output_set = set(input_tuple)\n",
    "print(output_set)"
   ]
  },
  {
   "cell_type": "code",
   "execution_count": 43,
   "id": "5f97b3b7-efb1-4e1a-820b-8b824909867f",
   "metadata": {},
   "outputs": [
    {
     "name": "stdout",
     "output_type": "stream",
     "text": [
      "Original set: {1, 2, 3, 4, 5}\n",
      "Converted tuple: (1, 2, 3, 4, 5)\n"
     ]
    }
   ],
   "source": [
    "#37  Convert a set to a tuple.\n",
    "input_set = {1, 2, 3, 4, 5}\n",
    "output_tuple = tuple(input_set)\n",
    "print(\"Original set:\", input_set)\n",
    "print(\"Converted tuple:\", output_tuple)"
   ]
  },
  {
   "cell_type": "code",
   "execution_count": 44,
   "id": "14cddd5a-549c-441b-872b-f8ebdee9d67b",
   "metadata": {},
   "outputs": [
    {
     "name": "stdout",
     "output_type": "stream",
     "text": [
      "Maximum value: 22\n"
     ]
    }
   ],
   "source": [
    "#38 Find the maximum value in a set \n",
    "my_set = {15, 7, 22, 13, 8}\n",
    "max_value = None\n",
    "for num in my_set:\n",
    "    if max_value is None or num > max_value:\n",
    "        max_value = num  \n",
    "print(\"Maximum value:\", max_value)"
   ]
  },
  {
   "cell_type": "code",
   "execution_count": 45,
   "id": "b6d15a5c-8908-4cc3-9977-cebc77e2da42",
   "metadata": {},
   "outputs": [
    {
     "name": "stdout",
     "output_type": "stream",
     "text": [
      "The minimum value in the set is: 4\n"
     ]
    }
   ],
   "source": [
    "#39 Find the minimum value in a set\n",
    "number_set = {15, 8, 23, 4, 42, 11}\n",
    "min_value = None\n",
    "for num in number_set:\n",
    "    if min_value is None or num < min_value:\n",
    "        min_value = num\n",
    "\n",
    "print(\"The minimum value in the set is:\", min_value)"
   ]
  },
  {
   "cell_type": "code",
   "execution_count": 46,
   "id": "a281d25a-1a2d-4a18-b4a8-42e44b0aac82",
   "metadata": {},
   "outputs": [
    {
     "name": "stdout",
     "output_type": "stream",
     "text": [
      "Enter elements for the set (type 'done' to finish):\n"
     ]
    },
    {
     "name": "stdin",
     "output_type": "stream",
     "text": [
      ">  done\n"
     ]
    },
    {
     "name": "stdout",
     "output_type": "stream",
     "text": [
      "Final set: set()\n"
     ]
    }
   ],
   "source": [
    "#40  Create a set from user input\n",
    "user_set = set()\n",
    "print(\"Enter elements for the set (type 'done' to finish):\")\n",
    "while True:\n",
    "    user_input = input(\"> \")\n",
    "\n",
    "    if user_input.lower() == 'done':\n",
    "        break\n",
    "    user_set.add(user_input)\n",
    "print(\"Final set:\", user_set)"
   ]
  },
  {
   "cell_type": "code",
   "execution_count": 47,
   "id": "8f285875-80fc-4f63-865f-66f07b46f394",
   "metadata": {},
   "outputs": [
    {
     "name": "stdout",
     "output_type": "stream",
     "text": [
      "The intersection of the two sets is not empty.\n"
     ]
    }
   ],
   "source": [
    "#41 Check if the intersection of two sets is empty\n",
    "set1 = {1, 2, 3, 4, 5}\n",
    "set2 = {4, 5, 6, 7, 8}\n",
    "intersection_result = set1.intersection(set2)\n",
    "if not intersection_result:\n",
    "    print(\"The intersection of the two sets is empty.\")\n",
    "else:\n",
    "    print(\"The intersection of the two sets is not empty.\")"
   ]
  },
  {
   "cell_type": "code",
   "execution_count": 48,
   "id": "ba0d2750-ecb9-4c7b-a983-91efc0c30664",
   "metadata": {},
   "outputs": [
    {
     "name": "stdout",
     "output_type": "stream",
     "text": [
      "Set of the first 5 Fibonacci numbers: {0, 1, 2, 3, 5}\n"
     ]
    }
   ],
   "source": [
    "#42 Create a set of the first 5 Fibonacci numbers\n",
    "fibonacci_set = set()\n",
    "a, b = 0, 1\n",
    "for _ in range(6):\n",
    "    fibonacci_set.add(a)\n",
    "    a, b = b, a + b\n",
    "print(\"Set of the first 5 Fibonacci numbers:\", fibonacci_set)"
   ]
  },
  {
   "cell_type": "code",
   "execution_count": 49,
   "id": "5c6f80f1-51d1-4295-9a30-1c1fd809e5d0",
   "metadata": {},
   "outputs": [
    {
     "name": "stdout",
     "output_type": "stream",
     "text": [
      "Original List: [2, 4, 6, 8, 4, 10, 6, 12, 14, 8]\n",
      "List with Duplicates Removed: [2, 4, 6, 8, 10, 12, 14]\n"
     ]
    }
   ],
   "source": [
    "#43 Remove duplicates from a list using sets\n",
    "original_list = [2, 4, 6, 8, 4, 10, 6, 12, 14, 8]\n",
    "unique_set = set(original_list)\n",
    "unique_list = list(unique_set)\n",
    "print(\"Original List:\", original_list)\n",
    "print(\"List with Duplicates Removed:\", unique_list)"
   ]
  },
  {
   "cell_type": "code",
   "execution_count": 50,
   "id": "84ad1b62-4776-4b8d-9b63-c2decb472f36",
   "metadata": {},
   "outputs": [
    {
     "name": "stdout",
     "output_type": "stream",
     "text": [
      "The sets have the same elements.\n"
     ]
    }
   ],
   "source": [
    "#44 Check if two sets have the same elements, regardless of their count\n",
    "def have_same_elements(set1, set2):\n",
    "    sorted_list1 = sorted(list(set1))\n",
    "    sorted_list2 = sorted(list(set2))\n",
    "    return sorted_list1 == sorted_list2\n",
    "set1 = {1, 2, 3, 2, 1}\n",
    "set2 = {3, 1, 2}\n",
    "result = have_same_elements(set1, set2)\n",
    "if result:\n",
    "    print(\"The sets have the same elements.\")\n",
    "else:\n",
    "    print(\"The sets do not have the same elements.\")"
   ]
  },
  {
   "cell_type": "code",
   "execution_count": 51,
   "id": "541141f0-e124-4dcb-9485-b11b77ed8a8b",
   "metadata": {},
   "outputs": [
    {
     "name": "stdout",
     "output_type": "stream",
     "text": [
      "{1, 2, 4, 8, 16}\n"
     ]
    }
   ],
   "source": [
    "#45 Create a set of the first n powers of 2\n",
    "def generate_powers_of_2(n):\n",
    "    powers_of_2 = set()\n",
    "    for i in range(n):\n",
    "        power = 2 ** i\n",
    "        powers_of_2.add(power)\n",
    "    return powers_of_2\n",
    "n = 5\n",
    "powers_set = generate_powers_of_2(n)\n",
    "print(powers_set)"
   ]
  },
  {
   "cell_type": "code",
   "execution_count": 52,
   "id": "0dede040-bc0c-4218-810a-2e9090f9e5b0",
   "metadata": {},
   "outputs": [
    {
     "name": "stdout",
     "output_type": "stream",
     "text": [
      "Common elements: [7, 9, 12]\n"
     ]
    }
   ],
   "source": [
    "#46  Find the common elements between a set and a list\n",
    "my_set = {3, 7, 9, 12, 15}\n",
    "my_list = [7, 12, 5, 9]\n",
    "list_to_set = set(my_list)\n",
    "common_elements = []\n",
    "for element in my_set:\n",
    "    if element in list_to_set:\n",
    "        common_elements.append(element)\n",
    "\n",
    "print(\"Common elements:\", common_elements)"
   ]
  },
  {
   "cell_type": "code",
   "execution_count": 53,
   "id": "3e0ac207-f07a-41ec-a84f-07f24ff6c9c2",
   "metadata": {},
   "outputs": [
    {
     "name": "stdin",
     "output_type": "stream",
     "text": [
      "Enter the value of n:  4\n"
     ]
    },
    {
     "name": "stdout",
     "output_type": "stream",
     "text": [
      "The set of the first 4 triangular numbers is: {1, 10, 3, 6}\n"
     ]
    }
   ],
   "source": [
    "#47 Create a set of the first n triangular numbers\n",
    "def generate_triangular_numbers(n):\n",
    "    triangular_numbers = set()\n",
    "    for i in range(1, n + 1):\n",
    "        triangular_number = i * (i + 1) // 2 \n",
    "        triangular_numbers.add(triangular_number)  \n",
    "    return triangular_numbers\n",
    "n = int(input(\"Enter the value of n: \"))\n",
    "triangular_set = generate_triangular_numbers(n)\n",
    "print(f\"The set of the first {n} triangular numbers is:\", triangular_set)"
   ]
  },
  {
   "cell_type": "code",
   "execution_count": 54,
   "id": "1573adb2-88aa-4d9d-baf9-eb08194d146a",
   "metadata": {},
   "outputs": [
    {
     "name": "stdout",
     "output_type": "stream",
     "text": [
      "set2 is a subset of set1\n"
     ]
    }
   ],
   "source": [
    "#48 Check if a set contains another set as a subset\n",
    "set1 = {1, 2, 3, 4, 5}\n",
    "set2 = {3, 4}\n",
    "is_subset = set2.issubset(set1)\n",
    "if is_subset:\n",
    "    print(\"set2 is a subset of set1\")\n",
    "else:\n",
    "    print(\"set2 is not a subset of set1\")"
   ]
  },
  {
   "cell_type": "code",
   "execution_count": 55,
   "id": "f2810e60-f597-4f27-9ddc-71e90c675ae9",
   "metadata": {},
   "outputs": [
    {
     "name": "stdout",
     "output_type": "stream",
     "text": [
      "{0, 1}\n"
     ]
    }
   ],
   "source": [
    "#49 Create a set of alternating 1s and 0s of length n\n",
    "def create_alternating_set(n):\n",
    "    alternating_set = set()\n",
    "    for i in range(n):\n",
    "        if i % 2 == 0:\n",
    "            alternating_set.add(1)  \n",
    "        else:\n",
    "            alternating_set.add(0)  \n",
    "\n",
    "    return alternating_set\n",
    "length_n = 10\n",
    "result = create_alternating_set(length_n)\n",
    "print(result)"
   ]
  },
  {
   "cell_type": "code",
   "execution_count": 56,
   "id": "a704e92e-a2ee-4c27-8ff6-0505c79a5940",
   "metadata": {},
   "outputs": [
    {
     "name": "stdout",
     "output_type": "stream",
     "text": [
      "Merged Set: {1, 2, 3, 4, 5, 6, 7}\n"
     ]
    }
   ],
   "source": [
    "#50 Merge multiple sets into one\n",
    "set1 = {1, 2, 3}\n",
    "set2 = {3, 4, 5}\n",
    "set3 = {5, 6, 7}\n",
    "merged_set = set1.union(set2, set3)\n",
    "print(\"Merged Set:\", merged_set)"
   ]
  },
  {
   "cell_type": "code",
   "execution_count": null,
   "id": "b8489ad3-0c0c-4234-9215-1c73e3f41fe9",
   "metadata": {},
   "outputs": [],
   "source": []
  }
 ],
 "metadata": {
  "kernelspec": {
   "display_name": "Python 3 (ipykernel)",
   "language": "python",
   "name": "python3"
  },
  "language_info": {
   "codemirror_mode": {
    "name": "ipython",
    "version": 3
   },
   "file_extension": ".py",
   "mimetype": "text/x-python",
   "name": "python",
   "nbconvert_exporter": "python",
   "pygments_lexer": "ipython3",
   "version": "3.10.8"
  }
 },
 "nbformat": 4,
 "nbformat_minor": 5
}
